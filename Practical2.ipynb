{
 "cells": [
  {
   "cell_type": "markdown",
   "metadata": {},
   "source": [
    "<html>\n",
    "    <body>\n",
    "        <p style=\"font-size:22px;text-align:center;\"><b>Practical: 2</b></p>\n",
    "        <p style=\"font-size:20px;text-align:center;\">KHARE PRATYUSH</p>\n",
    "        <p style=\"font-size:20px;text-align:center;\">Roll-No: 20BCE519</p>\n",
    "        <p style=\"font-size:20px;text-align:center;\">Course: Machine Learning(2CS501)</p>\n",
    "    </body>\n",
    "</html>"
   ]
  },
  {
   "cell_type": "markdown",
   "metadata": {},
   "source": [
    "<html>\n",
    "    Aim: Implement a program to use tabula and camelot modules in order to fetch tables from pdf and produce the result as a csv file\n",
    "\n",
    "</html>    "
   ]
  },
  {
   "cell_type": "code",
   "execution_count": 2,
   "metadata": {},
   "outputs": [
    {
     "ename": "ImportError",
     "evalue": "cannot import name 'read_pdf' from 'tabula' (E:\\Softwares\\Anaconda\\Latest\\FILES\\lib\\site-packages\\tabula\\__init__.py)",
     "output_type": "error",
     "traceback": [
      "\u001b[1;31m---------------------------------------------------------------------------\u001b[0m",
      "\u001b[1;31mImportError\u001b[0m                               Traceback (most recent call last)",
      "\u001b[1;32m<ipython-input-2-e629a9b5706f>\u001b[0m in \u001b[0;36m<module>\u001b[1;34m\u001b[0m\n\u001b[0;32m      1\u001b[0m \u001b[1;31m# Extracting Tables with Tabula\u001b[0m\u001b[1;33m\u001b[0m\u001b[1;33m\u001b[0m\u001b[1;33m\u001b[0m\u001b[0m\n\u001b[0;32m      2\u001b[0m \u001b[1;33m\u001b[0m\u001b[0m\n\u001b[1;32m----> 3\u001b[1;33m \u001b[1;32mfrom\u001b[0m \u001b[0mtabula\u001b[0m \u001b[1;32mimport\u001b[0m \u001b[0mread_pdf\u001b[0m\u001b[1;33m\u001b[0m\u001b[1;33m\u001b[0m\u001b[0m\n\u001b[0m\u001b[0;32m      4\u001b[0m \u001b[1;32mimport\u001b[0m \u001b[0mtabula\u001b[0m\u001b[1;33m\u001b[0m\u001b[1;33m\u001b[0m\u001b[0m\n\u001b[0;32m      5\u001b[0m \u001b[0mdfs\u001b[0m \u001b[1;33m=\u001b[0m \u001b[0mtabula\u001b[0m\u001b[1;33m.\u001b[0m\u001b[0mread_pdf\u001b[0m\u001b[1;33m(\u001b[0m\u001b[1;34m\"tble.pdf\"\u001b[0m\u001b[1;33m,\u001b[0m \u001b[0mpages\u001b[0m\u001b[1;33m=\u001b[0m\u001b[1;34m'all'\u001b[0m\u001b[1;33m)\u001b[0m\u001b[1;33m\u001b[0m\u001b[1;33m\u001b[0m\u001b[0m\n",
      "\u001b[1;31mImportError\u001b[0m: cannot import name 'read_pdf' from 'tabula' (E:\\Softwares\\Anaconda\\Latest\\FILES\\lib\\site-packages\\tabula\\__init__.py)"
     ]
    }
   ],
   "source": [
    "# Extracting Tables with Tabula\n",
    "\n",
    "from tabula import read_pdf\n",
    "import tabula\n",
    "dfs = tabula.read_pdf(\"tble.pdf\", pages='all')\n",
    "tabula.convert_into(\"tble.pdf\", \"result.csv\", output_format=\"csv\", pages='all')\n",
    "print(\"CSV File is generated successfully!!!\")\n"
   ]
  },
  {
   "cell_type": "code",
   "execution_count": null,
   "metadata": {},
   "outputs": [],
   "source": []
  },
  {
   "cell_type": "code",
   "execution_count": 6,
   "metadata": {},
   "outputs": [
    {
     "name": "stdout",
     "output_type": "stream",
     "text": [
      "All the tables have been extracted!!!\n"
     ]
    }
   ],
   "source": [
    "# Extracting Tables with Camelot \n",
    "import camelot\n",
    "tables = camelot.read_pdf('tatamotor.pdf',flavor='stream',pages='all')\n",
    "\n",
    "for i in range(0, len(tables)):\n",
    "    tables[i].to_csv('C:/Users/91832/Downloads/ML/PR2/CSV/TableNo'+str(i+1)+'.csv')\n",
    "\n",
    "print(\"All the tables have been extracted!!!\")"
   ]
  },
  {
   "cell_type": "code",
   "execution_count": null,
   "metadata": {},
   "outputs": [],
   "source": []
  }
 ],
 "metadata": {
  "kernelspec": {
   "display_name": "Python 3",
   "language": "python",
   "name": "python3"
  },
  "language_info": {
   "codemirror_mode": {
    "name": "ipython",
    "version": 3
   },
   "file_extension": ".py",
   "mimetype": "text/x-python",
   "name": "python",
   "nbconvert_exporter": "python",
   "pygments_lexer": "ipython3",
   "version": "3.8.8"
  }
 },
 "nbformat": 4,
 "nbformat_minor": 4
}
