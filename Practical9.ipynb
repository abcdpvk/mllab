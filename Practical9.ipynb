{
 "cells": [
  {
   "cell_type": "markdown",
   "metadata": {},
   "source": [
    "<html>\n",
    "    <body>\n",
    "        <p style=\"font-size:30px;text-align:center;\"><b>Practical 9</b></p>\n",
    "        <p style=\"font-size:20px;text-align:center;\">Name: KHARE PRATYUSH</p>\n",
    "        <p style=\"font-size:20px;text-align:center;\">Roll-No: 20BCE519</p>\n",
    "        <p style=\"font-size:20px;text-align:center;\">Course Name: Machine Learning (2CS501)</p>\n",
    "    </body>\n",
    "</html>\n",
    "    "
   ]
  },
  {
   "cell_type": "markdown",
   "metadata": {},
   "source": [
    "<p style=\"font-size:1.2em\"><b> AIM: Implement Ex-OR Gate or any other problem using Backpropagation Neural Networks and Sklearn</b></p>"
   ]
  },
  {
   "cell_type": "code",
   "execution_count": 23,
   "metadata": {},
   "outputs": [],
   "source": [
    "import numpy as np\n",
    "import matplotlib.pyplot as plt\n",
    "\n",
    "# Initializing Parameters\n",
    "def initializeParameters(inputFeatures, neuronsInHiddenLayers, outputFeatures):\n",
    "    W1 = np.random.randn(neuronsInHiddenLayers, inputFeatures)\n",
    "    W2 = np.random.randn(outputFeatures, neuronsInHiddenLayers)\n",
    "    b1 = np.zeros((neuronsInHiddenLayers, 1))\n",
    "    b2 = np.zeros((outputFeatures, 1))\n",
    "    \n",
    "    parameters = {\"W1\" : W1, \"b1\": b1,\n",
    "                \"W2\" : W2, \"b2\": b2}\n",
    "    return parameters"
   ]
  },
  {
   "cell_type": "code",
   "execution_count": 24,
   "metadata": {},
   "outputs": [],
   "source": [
    "# Forward Propagation\n",
    "def forwardPropagation(X, Y, parameters):\n",
    "    m = X.shape[1]\n",
    "    W1 = parameters[\"W1\"]\n",
    "    W2 = parameters[\"W2\"]\n",
    "    b1 = parameters[\"b1\"]\n",
    "    b2 = parameters[\"b2\"]\n",
    "    #FOr 2 Hidden Layers...\n",
    "    net1 = np.dot(W1, X) + b1\n",
    "    A1 = 1 / (1 + np.exp(-net1))\n",
    "    net2 = np.dot(W2, A1) + b2\n",
    "    A2 = 1 / (1 + np.exp(-net2))\n",
    "    cache = (net1, A1, W1, b1, net2, A2, W2, b2)\n",
    "    logprobs = np.multiply(np.log(A2), Y) + np.multiply(np.log(1 - A2), (1 - Y))\n",
    "    cost = -np.sum(logprobs) / m\n",
    "    return cost, cache, A2"
   ]
  },
  {
   "cell_type": "code",
   "execution_count": 25,
   "metadata": {},
   "outputs": [],
   "source": [
    "# Backward Propagation\n",
    "def backwardPropagation(X, Y, cache):\n",
    "    m = X.shape[1]\n",
    "    (net1, A1, W1, b1, net2, A2, W2, b2) = cache\n",
    "    \n",
    "    ddnet2 = A2 - Y\n",
    "    dnet2 = np.multiply(ddnet2, A2 * (1- A2))\n",
    "    dW2 = np.dot(dnet2, A1.T) / m\n",
    "    db2 = np.sum(dnet2, axis = 1, keepdims = True)\n",
    "    \n",
    "    dA1 = np.dot(W2.T, dnet2)\n",
    "    dnet1 = np.multiply(dA1, A1 * (1- A1))\n",
    "    dW1 = np.dot(dnet1, X.T) / m\n",
    "    db1 = np.sum(dnet1, axis = 1, keepdims = True) / m\n",
    "    \n",
    "    gradients = {\"dZ2\": dnet2, \"dW2\": dW2, \"db2\": db2,\n",
    "                \"dZ1\": dnet1, \"dW1\": dW1, \"db1\": db1}\n",
    "    return gradients"
   ]
  },
  {
   "cell_type": "code",
   "execution_count": 26,
   "metadata": {},
   "outputs": [],
   "source": [
    "# Updating Parameters\n",
    "def updateParameters(parameters, gradients, learningRate):\n",
    "    parameters[\"W1\"] = parameters[\"W1\"] - learningRate * gradients[\"dW1\"]\n",
    "    parameters[\"W2\"] = parameters[\"W2\"] - learningRate * gradients[\"dW2\"]\n",
    "    parameters[\"b1\"] = parameters[\"b1\"] - learningRate * gradients[\"db1\"]\n",
    "    parameters[\"b2\"] = parameters[\"b2\"] - learningRate * gradients[\"db2\"]\n",
    "    return parameters"
   ]
  },
  {
   "cell_type": "code",
   "execution_count": 28,
   "metadata": {},
   "outputs": [
    {
     "name": "stdout",
     "output_type": "stream",
     "text": [
      "XOR Input :: \n",
      " [[0 0 1 1]\n",
      " [0 1 0 1]]\n",
      "XOR Output :: \n",
      " [[0 1 1 0]]\n"
     ]
    },
    {
     "data": {
      "image/png": "[encoded data removed]",
      "text/plain": [
       "<Figure size 432x288 with 1 Axes>"
      ]
     },
     "metadata": {
      "needs_background": "light"
     },
     "output_type": "display_data"
    }
   ],
   "source": [
    "# Model to learn XOR truth table\n",
    "X=np.array([[0,0,1,1],[0,1,0,1]]) #XOR input\n",
    "Y=np.array([[0,1,1,0]]) #XOR output\n",
    "print(\"XOR Input :: \\n\",X)\n",
    "print(\"XOR Output :: \\n\",Y)\n",
    "# Defining Model Parameters\n",
    "neuronsInHiddenLayers= 2 # No. ofHidden Layers is 2\n",
    "inputFeatures = X.shape[0] # Two Inputs x1 and x2\n",
    "outputFeatures = Y.shape[0] # 1 Nos Output Feature\n",
    "\n",
    "epoch = 100000\n",
    "learningRate = 0.01\n",
    "parameters = initializeParameters(inputFeatures,neuronsInHiddenLayers,outputFeatures)\n",
    "losses = np.zeros((epoch,1))\n",
    "\n",
    "for i in range(epoch):\n",
    "    losses[i,0], cache, A2 = forwardPropagation(X,Y,parameters)\n",
    "    gradients = backwardPropagation(X, Y, cache)\n",
    "    parameters = updateParameters(parameters,gradients,learningRate)\n",
    "\n",
    "    \n",
    "plt.figure()\n",
    "plt.plot(losses)\n",
    "plt.xlabel(\"EPOCHS\")\n",
    "plt.ylabel(\"Loss Values\")\n",
    "plt.show()"
   ]
  },
  {
   "cell_type": "code",
   "execution_count": 22,
   "metadata": {},
   "outputs": [
    {
     "name": "stdout",
     "output_type": "stream",
     "text": [
      "Prediction Results ::  [[1. 0. 0. 1.]]\n"
     ]
    }
   ],
   "source": [
    "# Testing \n",
    "X = np.array([[1,1,0,0],[0,1,0,1]]) #XOR input\n",
    "cost, _, A2 = forwardPropagation(X,Y,parameters)\n",
    "prediction = (A2 > 0.5) * 1.0\n",
    "print(\"Prediction Results :: \",prediction)"
   ]
  },
  {
   "cell_type": "code",
   "execution_count": null,
   "metadata": {},
   "outputs": [],
   "source": []
  }
 ],
 "metadata": {
  "kernelspec": {
   "display_name": "Python 3",
   "language": "python",
   "name": "python3"
  },
  "language_info": {
   "codemirror_mode": {
    "name": "ipython",
    "version": 3
   },
   "file_extension": ".py",
   "mimetype": "text/x-python",
   "name": "python",
   "nbconvert_exporter": "python",
   "pygments_lexer": "ipython3",
   "version": "3.8.8"
  }
 },
 "nbformat": 4,
 "nbformat_minor": 4
}
