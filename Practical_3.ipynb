{
 "cells": [
  {
   "cell_type": "markdown",
   "metadata": {},
   "source": [
    "<html>\n",
    "    <body>\n",
    "        <p style=\"font-size:30px;text-align:center;\"><b>Practical 3</b></p>\n",
    "        <p style=\"font-size:20px;text-align:center;\">Name: KHARE PRATYUSH</p>\n",
    "        <p style=\"font-size:20px;text-align:center;\">Roll-No: 20BCE519</p>\n",
    "        <p style=\"font-size:20px;text-align:center;\">Course Name: Machine Learning (2CS501)</p>\n",
    "    </body>\n",
    "</html>\n",
    "    "
   ]
  },
  {
   "cell_type": "markdown",
   "metadata": {},
   "source": [
    "<p style=\"font-size: 1.2em\"><b>Gradient Descent Approach</b></p>"
   ]
  },
  {
   "cell_type": "code",
   "execution_count": 2,
   "metadata": {},
   "outputs": [
    {
     "name": "stdout",
     "output_type": "stream",
     "text": [
      "(506, 13)\n",
      "(506,)\n",
      "Type of X_train: <class 'numpy.ndarray'> Shape of X_train: (400, 14)\n",
      "Type of X_test: <class 'numpy.ndarray'> Shape of X_test: (106, 14)\n"
     ]
    }
   ],
   "source": [
    "import numpy as np\n",
    "from sklearn import datasets, metrics\n",
    "from sklearn.preprocessing import StandardScaler\n",
    "\n",
    "X, y = datasets.load_boston(return_X_y=True)\n",
    "print(X.shape)\n",
    "print(y.shape)\n",
    "\n",
    "X_train_temp1=X[0:400,:]\n",
    "X_train=np.zeros((X_train_temp1.shape[0],X_train_temp1.shape[1]+1))\n",
    "\n",
    "X_train[:,0]=np.ones((X_train_temp1.shape[0]))\n",
    "X_train[:,1:]=X_train_temp1\n",
    "print(\"Type of X_train:\", type(X_train), \"Shape of X_train:\", X_train.shape)\n",
    "y_train=y[0:400]\n",
    "\n",
    "\n",
    "X_test_temp1=X[400:506,:]\n",
    "\n",
    "X_test=np.zeros((X_test_temp1.shape[0],X_test_temp1.shape[1]+1))\n",
    "X_test[:,0]=np.ones((X_test_temp1.shape[0]))\n",
    "X_test[:,1:]=X_test_temp1\n",
    "print(\"Type of X_test:\", type(X_test), \"Shape of X_test:\", X_test.shape)\n",
    "y_test=y[400:506]\n",
    "\n",
    "scaler=StandardScaler()\n",
    "scaler.fit(X_train[:,1:])\n",
    "X_train[:,1:]=scaler.transform(X_train[:,1:])\n",
    "X_test[:,1:]=scaler.transform(X_test[:,1:])"
   ]
  },
  {
   "cell_type": "code",
   "execution_count": 3,
   "metadata": {},
   "outputs": [
    {
     "name": "stdout",
     "output_type": "stream",
     "text": [
      "[0.71629351 0.15703277 0.51492865 0.01125419 0.32698193 0.25039731\n",
      " 0.5735608  0.69371162 0.40233162 0.42288782 0.84334081 0.41365616\n",
      " 0.94790302 0.8883348 ] \n",
      "\n",
      "Alpha =0.001\tTheta=[22.92641166 -1.37255586  0.94869247 -0.97416092  1.0627574  -0.28287734\n",
      "  4.83799435 -0.13063382 -0.72067263  0.27184956  0.19923912 -0.76650447\n",
      "  0.74427337  0.23659984]\n",
      "\n",
      "Alpha =0.002\tTheta=[24.2538694  -1.41682008  0.75496754 -0.74309274  0.88083608 -0.42855921\n",
      "  5.50982729 -0.52462789 -1.42925142  0.61464202  0.09644421 -1.127789\n",
      "  0.53069548 -0.09785732]\n",
      "\n",
      "Alpha =0.003\tTheta=[ 2.43300706e+01 -1.44568482e+00  6.92564388e-01 -5.78302288e-01\n",
      "  7.62398350e-01 -6.62496170e-01  5.53143954e+00 -7.91734510e-01\n",
      " -1.84416078e+00  9.04661527e-01 -5.73444392e-03 -1.31293582e+00\n",
      "  3.70515517e-01 -3.58559678e-01]\n",
      "\n",
      "Alpha =0.004\tTheta=[24.33426684 -1.46363325  0.68569482 -0.46595475  0.70669962 -0.88347998\n",
      "  5.41430004 -0.93011547 -2.13317271  1.14709331 -0.11730426 -1.43206082\n",
      "  0.25212815 -0.58317013]\n",
      "\n",
      "Alpha =0.005\tTheta=[24.33448826 -1.47065006  0.70370879 -0.38459493  0.67583944 -1.07251542\n",
      "  5.27451337 -0.98254488 -2.34670211  1.35224155 -0.23346962 -1.51653301\n",
      "  0.16461221 -0.78419935]\n",
      "\n",
      "Alpha =0.006\tTheta=[24.33449943 -1.46994209  0.73227376 -0.32026152  0.65471092 -1.22871682\n",
      "  5.13976031 -0.9835344  -2.50680878  1.52828283 -0.34964766 -1.57900688\n",
      "  0.09962216 -0.96731309]\n",
      "\n",
      "Alpha =0.007\tTheta=[24.33449997 -1.46425033  0.76422142 -0.26553833  0.63813647 -1.35549363\n",
      "  5.01618583 -0.95546675 -2.62680078  1.68118549 -0.46287226 -1.62626155\n",
      "  0.0511289  -1.13571617]\n",
      "\n",
      "Alpha =0.008\tTheta=[ 2.43345000e+01 -1.45540605e+00  7.95945377e-01 -2.16802590e-01\n",
      "  6.24203052e-01 -1.45709617e+00  4.90434689e+00 -9.11937288e-01\n",
      " -2.71615958e+00  1.81528206e+00 -5.71430639e-01 -1.66255702e+00\n",
      "  1.48166931e-02 -1.29149078e+00]\n",
      "\n",
      "Alpha =0.009000000000000001\tTheta=[ 2.43345000e+01 -1.44459215e+00  8.25739596e-01 -1.72351413e-01\n",
      "  6.12074593e-01 -1.53764701e+00  4.80333870e+00 -8.60987331e-01\n",
      " -2.78205788e+00  1.93377798e+00 -6.74414667e-01 -1.69077206e+00\n",
      " -1.24202571e-02 -1.43611698e+00]\n",
      "\n",
      "Alpha =0.010000000000000002\tTheta=[24.3345     -1.43258808  0.85292509 -0.13138405  0.60131398 -1.60085043\n",
      "  4.71194993 -0.80729855 -2.83001545  2.0391082  -0.77140986 -1.71292019\n",
      " -0.03283905 -1.57071833]\n",
      "\n",
      "Mean Absolute Error: 5.456335862064217\n",
      "Mean Squared Error: 43.77055875187241\n"
     ]
    },
    {
     "data": {
      "image/png": "[encoded data removed]",
      "text/plain": [
       "<Figure size 432x288 with 1 Axes>"
      ]
     },
     "metadata": {
      "needs_background": "light"
     },
     "output_type": "display_data"
    }
   ],
   "source": [
    "import matplotlib.pyplot as plt\n",
    "\n",
    "theta=np.random.uniform(0,1,size=(X_train.shape[1]))\n",
    "theta_values=theta.copy()\n",
    "\n",
    "print(theta,\"\\n\")\n",
    "\n",
    "alpha=np.arange(0.001,0.0105,0.001)\n",
    "niterations=200\n",
    "m=X_train.shape[0]\n",
    "n=X_train.shape[1]\n",
    "\n",
    "\n",
    "j_theta=np.zeros((alpha.size,niterations))\n",
    "\n",
    "plt.xlabel(\"Number of Iterations\")\n",
    "plt.ylabel(\"J Theta\")\n",
    "\n",
    "for k in range(alpha.size):\n",
    "    theta=theta_values\n",
    "    for i in range(niterations):\n",
    "        update=np.zeros(X_train.shape[1])\n",
    "        ypred=np.dot(X_train,theta)\n",
    "        error=ypred-y_train\n",
    "        j_theta[k][i]=np.sum(np.square(ypred - y_train))\n",
    "        for j in range(n):\n",
    "            update[j]=np.sum(error*(X_train.T)[j])\n",
    "            theta=theta-(1/m)*(alpha[k])*update\n",
    "        \n",
    "    print(\"Alpha =\",alpha[k],\"\\tTheta=\",theta,\"\\n\",sep=\"\")\n",
    "    plt.plot(range(niterations), j_theta[k])\n",
    "\n",
    "    \n",
    "predictions=np.dot(X_test,theta)\n",
    "print(\"Mean Absolute Error:\",metrics.mean_absolute_error(y_true=y_test,y_pred=predictions))\n",
    "print(\"Mean Squared Error:\",metrics.mean_squared_error(y_true=y_test,y_pred=predictions))\n",
    "\n",
    "plt.show()"
   ]
  },
  {
   "cell_type": "markdown",
   "metadata": {},
   "source": [
    "<p style=\"font-size: 1.2em\"><b> Normal Equation Approach </b></p>"
   ]
  },
  {
   "cell_type": "code",
   "execution_count": 4,
   "metadata": {},
   "outputs": [
    {
     "data": {
      "text/plain": [
       "array([[ 1., 24.],\n",
       "       [ 1., 50.],\n",
       "       [ 1., 15.],\n",
       "       ...,\n",
       "       [ 1., 82.],\n",
       "       [ 1., 66.],\n",
       "       [ 1., 97.]])"
      ]
     },
     "execution_count": 4,
     "metadata": {},
     "output_type": "execute_result"
    }
   ],
   "source": [
    "import pandas as pd\n",
    "\n",
    "filename = r'train.csv'\n",
    "data_set  = pd.read_csv(filename) \n",
    "\n",
    "y=np.array(data_set['y']) \n",
    "x=np.ones([699,2])\n",
    "x[:,1]=np.array(data_set['x'])\n",
    "x"
   ]
  },
  {
   "cell_type": "code",
   "execution_count": 5,
   "metadata": {},
   "outputs": [
    {
     "name": "stdout",
     "output_type": "stream",
     "text": [
      "[-0.10726546  1.00065638]\n"
     ]
    }
   ],
   "source": [
    "X_Tranpose=np.dot(x.T,x)\n",
    "\n",
    "inverse=np.linalg.inv(X_Tranpose) \n",
    "\n",
    "X_Transpose_Y=np.dot(x.T,y)\n",
    "\n",
    "theta=np.dot(inverse,X_Transpose_Y)\n",
    "\n",
    "print(theta)"
   ]
  },
  {
   "cell_type": "code",
   "execution_count": 10,
   "metadata": {},
   "outputs": [
    {
     "data": {
      "image/png": "[encoded data removed]",
      "text/plain": [
       "<Figure size 432x288 with 1 Axes>"
      ]
     },
     "metadata": {
      "needs_background": "light"
     },
     "output_type": "display_data"
    },
    {
     "name": "stdout",
     "output_type": "stream",
     "text": [
      "MAE 2.227151953645557\n",
      "MSE 7.867752733487687\n"
     ]
    }
   ],
   "source": [
    "ypred=np.dot(theta,x.T)\n",
    "plt.scatter(x[:,1], np.array(data_set[\"y\"])) \n",
    "plt.plot([min(x[:,1]), max(x[:,1])], [min(ypred), max(ypred)], color='red')  # regression line\n",
    "plt.show()\n",
    "print(\"MAE\",metrics.mean_absolute_error(y_true=y,y_pred=ypred))\n",
    "print(\"MSE\",metrics.mean_squared_error(y_true=y,y_pred=ypred))"
   ]
  },
  {
   "cell_type": "code",
   "execution_count": null,
   "metadata": {},
   "outputs": [],
   "source": []
  }
 ],
 "metadata": {
  "kernelspec": {
   "display_name": "Python 3",
   "language": "python",
   "name": "python3"
  },
  "language_info": {
   "codemirror_mode": {
    "name": "ipython",
    "version": 3
   },
   "file_extension": ".py",
   "mimetype": "text/x-python",
   "name": "python",
   "nbconvert_exporter": "python",
   "pygments_lexer": "ipython3",
   "version": "3.8.8"
  }
 },
 "nbformat": 4,
 "nbformat_minor": 4
}
