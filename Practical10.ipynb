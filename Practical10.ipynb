{
 "cells": [
  {
   "cell_type": "markdown",
   "metadata": {
    "id": "qs4Ia0E7AcHb"
   },
   "source": [
    "<html>\n",
    "    <body>\n",
    "        <p style=\"font-size:30px;text-align:center;\"><b>Practical 10</b></p>\n",
    "        <p style=\"font-size:20px;text-align:center;\">Name: KHARE PRATYUSH</p>\n",
    "        <p style=\"font-size:20px;text-align:center;\">Roll-No: 20BCE519</p>\n",
    "        <p style=\"font-size:20px;text-align:center;\">Course Name: Machine Learning (2CS501)</p>\n",
    "    </body>\n",
    "</html>\n",
    "    "
   ]
  },
  {
   "cell_type": "code",
   "execution_count": 1,
   "metadata": {
    "colab": {
     "base_uri": "https://localhost:8080/",
     "height": 786
    },
    "id": "twbLOmCH_WVe",
    "outputId": "bde969ae-cca3-4e1a-e2ba-ebc6272bc2cb"
   },
   "outputs": [
    {
     "data": {
      "text/html": [
       "<div>\n",
       "<style scoped>\n",
       "    .dataframe tbody tr th:only-of-type {\n",
       "        vertical-align: middle;\n",
       "    }\n",
       "\n",
       "    .dataframe tbody tr th {\n",
       "        vertical-align: top;\n",
       "    }\n",
       "\n",
       "    .dataframe thead th {\n",
       "        text-align: right;\n",
       "    }\n",
       "</style>\n",
       "<table border=\"1\" class=\"dataframe\">\n",
       "  <thead>\n",
       "    <tr style=\"text-align: right;\">\n",
       "      <th></th>\n",
       "      <th>Age</th>\n",
       "      <th>Marital Status</th>\n",
       "      <th>N Stage</th>\n",
       "      <th>6th Stage</th>\n",
       "      <th>Grade</th>\n",
       "      <th>A Stage</th>\n",
       "      <th>Tumor Size</th>\n",
       "      <th>Estrogen Status</th>\n",
       "      <th>Progesterone Status</th>\n",
       "      <th>Regional Node Examined</th>\n",
       "      <th>Reginol Node Positive</th>\n",
       "      <th>Survival Months</th>\n",
       "      <th>Status</th>\n",
       "    </tr>\n",
       "  </thead>\n",
       "  <tbody>\n",
       "    <tr>\n",
       "      <th>0</th>\n",
       "      <td>43</td>\n",
       "      <td>Married (including common law)</td>\n",
       "      <td>N3</td>\n",
       "      <td>IIIC</td>\n",
       "      <td>Moderately differentiated; Grade II</td>\n",
       "      <td>Regional</td>\n",
       "      <td>40</td>\n",
       "      <td>Positive</td>\n",
       "      <td>Positive</td>\n",
       "      <td>19</td>\n",
       "      <td>11</td>\n",
       "      <td>1</td>\n",
       "      <td>Alive</td>\n",
       "    </tr>\n",
       "    <tr>\n",
       "      <th>1</th>\n",
       "      <td>47</td>\n",
       "      <td>Married (including common law)</td>\n",
       "      <td>N2</td>\n",
       "      <td>IIIA</td>\n",
       "      <td>Moderately differentiated; Grade II</td>\n",
       "      <td>Regional</td>\n",
       "      <td>45</td>\n",
       "      <td>Positive</td>\n",
       "      <td>Positive</td>\n",
       "      <td>25</td>\n",
       "      <td>9</td>\n",
       "      <td>2</td>\n",
       "      <td>Alive</td>\n",
       "    </tr>\n",
       "    <tr>\n",
       "      <th>2</th>\n",
       "      <td>67</td>\n",
       "      <td>Married (including common law)</td>\n",
       "      <td>N1</td>\n",
       "      <td>IIB</td>\n",
       "      <td>Poorly differentiated; Grade III</td>\n",
       "      <td>Regional</td>\n",
       "      <td>25</td>\n",
       "      <td>Positive</td>\n",
       "      <td>Positive</td>\n",
       "      <td>4</td>\n",
       "      <td>1</td>\n",
       "      <td>2</td>\n",
       "      <td>Dead</td>\n",
       "    </tr>\n",
       "    <tr>\n",
       "      <th>3</th>\n",
       "      <td>46</td>\n",
       "      <td>Divorced</td>\n",
       "      <td>N1</td>\n",
       "      <td>IIA</td>\n",
       "      <td>Moderately differentiated; Grade II</td>\n",
       "      <td>Regional</td>\n",
       "      <td>19</td>\n",
       "      <td>Positive</td>\n",
       "      <td>Positive</td>\n",
       "      <td>26</td>\n",
       "      <td>1</td>\n",
       "      <td>2</td>\n",
       "      <td>Dead</td>\n",
       "    </tr>\n",
       "    <tr>\n",
       "      <th>4</th>\n",
       "      <td>63</td>\n",
       "      <td>Married (including common law)</td>\n",
       "      <td>N2</td>\n",
       "      <td>IIIA</td>\n",
       "      <td>Moderately differentiated; Grade II</td>\n",
       "      <td>Regional</td>\n",
       "      <td>35</td>\n",
       "      <td>Positive</td>\n",
       "      <td>Positive</td>\n",
       "      <td>21</td>\n",
       "      <td>5</td>\n",
       "      <td>3</td>\n",
       "      <td>Dead</td>\n",
       "    </tr>\n",
       "    <tr>\n",
       "      <th>...</th>\n",
       "      <td>...</td>\n",
       "      <td>...</td>\n",
       "      <td>...</td>\n",
       "      <td>...</td>\n",
       "      <td>...</td>\n",
       "      <td>...</td>\n",
       "      <td>...</td>\n",
       "      <td>...</td>\n",
       "      <td>...</td>\n",
       "      <td>...</td>\n",
       "      <td>...</td>\n",
       "      <td>...</td>\n",
       "      <td>...</td>\n",
       "    </tr>\n",
       "    <tr>\n",
       "      <th>4019</th>\n",
       "      <td>52</td>\n",
       "      <td>Married (including common law)</td>\n",
       "      <td>N1</td>\n",
       "      <td>IIA</td>\n",
       "      <td>Well differentiated; Grade I</td>\n",
       "      <td>Regional</td>\n",
       "      <td>10</td>\n",
       "      <td>Positive</td>\n",
       "      <td>Positive</td>\n",
       "      <td>19</td>\n",
       "      <td>1</td>\n",
       "      <td>107</td>\n",
       "      <td>Alive</td>\n",
       "    </tr>\n",
       "    <tr>\n",
       "      <th>4020</th>\n",
       "      <td>53</td>\n",
       "      <td>Married (including common law)</td>\n",
       "      <td>N2</td>\n",
       "      <td>IIIA</td>\n",
       "      <td>Poorly differentiated; Grade III</td>\n",
       "      <td>Regional</td>\n",
       "      <td>9</td>\n",
       "      <td>Negative</td>\n",
       "      <td>Negative</td>\n",
       "      <td>13</td>\n",
       "      <td>5</td>\n",
       "      <td>107</td>\n",
       "      <td>Alive</td>\n",
       "    </tr>\n",
       "    <tr>\n",
       "      <th>4021</th>\n",
       "      <td>53</td>\n",
       "      <td>Divorced</td>\n",
       "      <td>N1</td>\n",
       "      <td>IIA</td>\n",
       "      <td>Moderately differentiated; Grade II</td>\n",
       "      <td>Regional</td>\n",
       "      <td>9</td>\n",
       "      <td>Negative</td>\n",
       "      <td>Negative</td>\n",
       "      <td>4</td>\n",
       "      <td>2</td>\n",
       "      <td>107</td>\n",
       "      <td>Alive</td>\n",
       "    </tr>\n",
       "    <tr>\n",
       "      <th>4022</th>\n",
       "      <td>60</td>\n",
       "      <td>Married (including common law)</td>\n",
       "      <td>N1</td>\n",
       "      <td>IIA</td>\n",
       "      <td>Moderately differentiated; Grade II</td>\n",
       "      <td>Regional</td>\n",
       "      <td>9</td>\n",
       "      <td>Positive</td>\n",
       "      <td>Positive</td>\n",
       "      <td>14</td>\n",
       "      <td>2</td>\n",
       "      <td>107</td>\n",
       "      <td>Alive</td>\n",
       "    </tr>\n",
       "    <tr>\n",
       "      <th>4023</th>\n",
       "      <td>62</td>\n",
       "      <td>Divorced</td>\n",
       "      <td>N1</td>\n",
       "      <td>IIA</td>\n",
       "      <td>Moderately differentiated; Grade II</td>\n",
       "      <td>Regional</td>\n",
       "      <td>8</td>\n",
       "      <td>Positive</td>\n",
       "      <td>Positive</td>\n",
       "      <td>1</td>\n",
       "      <td>1</td>\n",
       "      <td>107</td>\n",
       "      <td>Alive</td>\n",
       "    </tr>\n",
       "  </tbody>\n",
       "</table>\n",
       "<p>4024 rows × 13 columns</p>\n",
       "</div>"
      ],
      "text/plain": [
       "      Age                  Marital Status N Stage 6th Stage  \\\n",
       "0      43  Married (including common law)      N3      IIIC   \n",
       "1      47  Married (including common law)      N2      IIIA   \n",
       "2      67  Married (including common law)      N1       IIB   \n",
       "3      46                        Divorced      N1       IIA   \n",
       "4      63  Married (including common law)      N2      IIIA   \n",
       "...   ...                             ...     ...       ...   \n",
       "4019   52  Married (including common law)      N1       IIA   \n",
       "4020   53  Married (including common law)      N2      IIIA   \n",
       "4021   53                        Divorced      N1       IIA   \n",
       "4022   60  Married (including common law)      N1       IIA   \n",
       "4023   62                        Divorced      N1       IIA   \n",
       "\n",
       "                                    Grade   A Stage  Tumor Size  \\\n",
       "0     Moderately differentiated; Grade II  Regional          40   \n",
       "1     Moderately differentiated; Grade II  Regional          45   \n",
       "2        Poorly differentiated; Grade III  Regional          25   \n",
       "3     Moderately differentiated; Grade II  Regional          19   \n",
       "4     Moderately differentiated; Grade II  Regional          35   \n",
       "...                                   ...       ...         ...   \n",
       "4019         Well differentiated; Grade I  Regional          10   \n",
       "4020     Poorly differentiated; Grade III  Regional           9   \n",
       "4021  Moderately differentiated; Grade II  Regional           9   \n",
       "4022  Moderately differentiated; Grade II  Regional           9   \n",
       "4023  Moderately differentiated; Grade II  Regional           8   \n",
       "\n",
       "     Estrogen Status Progesterone Status  Regional Node Examined  \\\n",
       "0           Positive            Positive                      19   \n",
       "1           Positive            Positive                      25   \n",
       "2           Positive            Positive                       4   \n",
       "3           Positive            Positive                      26   \n",
       "4           Positive            Positive                      21   \n",
       "...              ...                 ...                     ...   \n",
       "4019        Positive            Positive                      19   \n",
       "4020        Negative            Negative                      13   \n",
       "4021        Negative            Negative                       4   \n",
       "4022        Positive            Positive                      14   \n",
       "4023        Positive            Positive                       1   \n",
       "\n",
       "      Reginol Node Positive  Survival Months Status  \n",
       "0                        11                1  Alive  \n",
       "1                         9                2  Alive  \n",
       "2                         1                2   Dead  \n",
       "3                         1                2   Dead  \n",
       "4                         5                3   Dead  \n",
       "...                     ...              ...    ...  \n",
       "4019                      1              107  Alive  \n",
       "4020                      5              107  Alive  \n",
       "4021                      2              107  Alive  \n",
       "4022                      2              107  Alive  \n",
       "4023                      1              107  Alive  \n",
       "\n",
       "[4024 rows x 13 columns]"
      ]
     },
     "execution_count": 1,
     "metadata": {},
     "output_type": "execute_result"
    }
   ],
   "source": [
    "import pandas as pd\n",
    "from sklearn.model_selection import train_test_split\n",
    "from sklearn.preprocessing import StandardScaler\n",
    "from sklearn.linear_model import LogisticRegression\n",
    "from sklearn.tree import DecisionTreeClassifier\n",
    "from sklearn.naive_bayes import GaussianNB\n",
    "from sklearn.svm import SVC\n",
    "from sklearn import metrics\n",
    "import matplotlib.pyplot as plt\n",
    "# cancer_dataset\n",
    "data=pd.read_csv(\"cancer_dataset.csv\",usecols=[\"Age\",\"Marital Status\",\"N Stage\",\"6th Stage\",\"Grade\",\"A Stage\",\"Tumor Size\",\"Estrogen Status\",\"Progesterone Status\",\"Regional Node Examined\",\"Reginol Node Positive\",\"Survival Months\",\"Status\"])\n",
    "data"
   ]
  },
  {
   "cell_type": "code",
   "execution_count": 2,
   "metadata": {
    "colab": {
     "base_uri": "https://localhost:8080/"
    },
    "id": "u1qjIe5LCgdc",
    "outputId": "9a2aafea-459c-45b6-f433-ed882451fa7e"
   },
   "outputs": [
    {
     "name": "stdout",
     "output_type": "stream",
     "text": [
      "Alive    3408\n",
      "Dead      616\n",
      "Name: Status, dtype: int64\n"
     ]
    }
   ],
   "source": [
    "# How many alives and dead \n",
    "print(data['Status'].value_counts())"
   ]
  },
  {
   "cell_type": "code",
   "execution_count": 3,
   "metadata": {
    "colab": {
     "base_uri": "https://localhost:8080/"
    },
    "id": "Ew5eifhIDE2s",
    "outputId": "bbf0cd04-cee4-4141-97eb-a059f2c46055"
   },
   "outputs": [
    {
     "name": "stdout",
     "output_type": "stream",
     "text": [
      "<class 'pandas.core.frame.DataFrame'>\n",
      "RangeIndex: 4024 entries, 0 to 4023\n",
      "Data columns (total 13 columns):\n",
      " #   Column                  Non-Null Count  Dtype \n",
      "---  ------                  --------------  ----- \n",
      " 0   Age                     4024 non-null   int64 \n",
      " 1   Marital Status          4024 non-null   object\n",
      " 2   N Stage                 4024 non-null   object\n",
      " 3   6th Stage               4024 non-null   object\n",
      " 4   Grade                   4024 non-null   object\n",
      " 5   A Stage                 4024 non-null   object\n",
      " 6   Tumor Size              4024 non-null   int64 \n",
      " 7   Estrogen Status         4024 non-null   object\n",
      " 8   Progesterone Status     4024 non-null   object\n",
      " 9   Regional Node Examined  4024 non-null   int64 \n",
      " 10  Reginol Node Positive   4024 non-null   int64 \n",
      " 11  Survival Months         4024 non-null   int64 \n",
      " 12  Status                  4024 non-null   object\n",
      "dtypes: int64(5), object(8)\n",
      "memory usage: 408.8+ KB\n"
     ]
    }
   ],
   "source": [
    "data.info()"
   ]
  },
  {
   "cell_type": "code",
   "execution_count": 4,
   "metadata": {
    "colab": {
     "base_uri": "https://localhost:8080/"
    },
    "id": "KkRuuxGkDUbr",
    "outputId": "adfa7272-cd6e-4ac1-aaa5-b488941a0abb"
   },
   "outputs": [
    {
     "name": "stdout",
     "output_type": "stream",
     "text": [
      "Marital Status\n",
      "['Married (including common law)' 'Divorced' 'Single (never married)'\n",
      " 'Widowed' 'Separated']\n",
      "N Stage\n",
      "['N3' 'N2' 'N1']\n",
      "6th Stage\n",
      "['IIIC' 'IIIA' 'IIB' 'IIA' 'IIIB']\n",
      "Grade\n",
      "['Moderately differentiated; Grade II' 'Poorly differentiated; Grade III'\n",
      " 'Well differentiated; Grade I' 'Undifferentiated; anaplastic; Grade IV']\n",
      "A Stage\n",
      "['Regional' 'Distant']\n",
      "Estrogen Status\n",
      "['Positive' 'Negative']\n",
      "Progesterone Status\n",
      "['Positive' 'Negative']\n",
      "Status\n",
      "['Alive' 'Dead']\n",
      "\n",
      "\n",
      " ['Marital Status', 'N Stage', '6th Stage', 'Grade', 'A Stage', 'Estrogen Status', 'Progesterone Status', 'Status']\n"
     ]
    }
   ],
   "source": [
    "# figure out the categorical data from the dataset\n",
    "col=[]\n",
    "for c in data.columns:\n",
    "  if(data[c].dtype==object):\n",
    "    print(c)\n",
    "    col.append(c)\n",
    "    print(data[c].unique())\n",
    "print(\"\\n\\n\",col)"
   ]
  },
  {
   "cell_type": "code",
   "execution_count": 5,
   "metadata": {
    "id": "Zr_KQRlpEPjG"
   },
   "outputs": [],
   "source": [
    "#  we want categorical data converted into numeric data\n",
    "\n",
    "data['Marital Status']=data['Marital Status'].replace({\"Married (including common law)\" : 0,\"Divorced\":1,\"Single (never married)\":2,\"Widowed\":3,\"Separated\":4})\n",
    "data['N Stage']=data['N Stage'].replace({'N1':0 ,'N2': 1 ,'N3':2})\n",
    "data['6th Stage']=data['6th Stage'].replace({'IIIC':0,'IIIA':1,'IIB':2, 'IIA':3,'IIIB':4})\n",
    "data['Grade']=data['Grade'].replace({'Well differentiated; Grade I': 0,'Moderately differentiated; Grade II':1,'Undifferentiated; anaplastic; Grade IV':2,'Poorly differentiated; Grade III':4})\n",
    "data['A Stage']=data['A Stage'].replace({'Regional':0, 'Distant':1})\n",
    "data['Estrogen Status']=data['Estrogen Status'].replace({'Positive':0, 'Negative':1})\n",
    "data['Progesterone Status']=data['Progesterone Status'].replace({'Positive':0, 'Negative':1})\n",
    "data['Status']=data['Status'].replace({'Alive':0, 'Dead':1})"
   ]
  },
  {
   "cell_type": "code",
   "execution_count": 6,
   "metadata": {
    "colab": {
     "base_uri": "https://localhost:8080/",
     "height": 220
    },
    "id": "XO9n0jSXLoE9",
    "outputId": "f1db9839-ae1f-4d73-e553-415bed9ce284"
   },
   "outputs": [
    {
     "data": {
      "text/html": [
       "<div>\n",
       "<style scoped>\n",
       "    .dataframe tbody tr th:only-of-type {\n",
       "        vertical-align: middle;\n",
       "    }\n",
       "\n",
       "    .dataframe tbody tr th {\n",
       "        vertical-align: top;\n",
       "    }\n",
       "\n",
       "    .dataframe thead th {\n",
       "        text-align: right;\n",
       "    }\n",
       "</style>\n",
       "<table border=\"1\" class=\"dataframe\">\n",
       "  <thead>\n",
       "    <tr style=\"text-align: right;\">\n",
       "      <th></th>\n",
       "      <th>Age</th>\n",
       "      <th>Marital Status</th>\n",
       "      <th>N Stage</th>\n",
       "      <th>6th Stage</th>\n",
       "      <th>Grade</th>\n",
       "      <th>A Stage</th>\n",
       "      <th>Tumor Size</th>\n",
       "      <th>Estrogen Status</th>\n",
       "      <th>Progesterone Status</th>\n",
       "      <th>Regional Node Examined</th>\n",
       "      <th>Reginol Node Positive</th>\n",
       "      <th>Survival Months</th>\n",
       "      <th>Status</th>\n",
       "    </tr>\n",
       "  </thead>\n",
       "  <tbody>\n",
       "    <tr>\n",
       "      <th>0</th>\n",
       "      <td>43</td>\n",
       "      <td>0</td>\n",
       "      <td>2</td>\n",
       "      <td>0</td>\n",
       "      <td>1</td>\n",
       "      <td>0</td>\n",
       "      <td>40</td>\n",
       "      <td>0</td>\n",
       "      <td>0</td>\n",
       "      <td>19</td>\n",
       "      <td>11</td>\n",
       "      <td>1</td>\n",
       "      <td>0</td>\n",
       "    </tr>\n",
       "    <tr>\n",
       "      <th>1</th>\n",
       "      <td>47</td>\n",
       "      <td>0</td>\n",
       "      <td>1</td>\n",
       "      <td>1</td>\n",
       "      <td>1</td>\n",
       "      <td>0</td>\n",
       "      <td>45</td>\n",
       "      <td>0</td>\n",
       "      <td>0</td>\n",
       "      <td>25</td>\n",
       "      <td>9</td>\n",
       "      <td>2</td>\n",
       "      <td>0</td>\n",
       "    </tr>\n",
       "    <tr>\n",
       "      <th>2</th>\n",
       "      <td>67</td>\n",
       "      <td>0</td>\n",
       "      <td>0</td>\n",
       "      <td>2</td>\n",
       "      <td>4</td>\n",
       "      <td>0</td>\n",
       "      <td>25</td>\n",
       "      <td>0</td>\n",
       "      <td>0</td>\n",
       "      <td>4</td>\n",
       "      <td>1</td>\n",
       "      <td>2</td>\n",
       "      <td>1</td>\n",
       "    </tr>\n",
       "    <tr>\n",
       "      <th>3</th>\n",
       "      <td>46</td>\n",
       "      <td>1</td>\n",
       "      <td>0</td>\n",
       "      <td>3</td>\n",
       "      <td>1</td>\n",
       "      <td>0</td>\n",
       "      <td>19</td>\n",
       "      <td>0</td>\n",
       "      <td>0</td>\n",
       "      <td>26</td>\n",
       "      <td>1</td>\n",
       "      <td>2</td>\n",
       "      <td>1</td>\n",
       "    </tr>\n",
       "    <tr>\n",
       "      <th>4</th>\n",
       "      <td>63</td>\n",
       "      <td>0</td>\n",
       "      <td>1</td>\n",
       "      <td>1</td>\n",
       "      <td>1</td>\n",
       "      <td>0</td>\n",
       "      <td>35</td>\n",
       "      <td>0</td>\n",
       "      <td>0</td>\n",
       "      <td>21</td>\n",
       "      <td>5</td>\n",
       "      <td>3</td>\n",
       "      <td>1</td>\n",
       "    </tr>\n",
       "  </tbody>\n",
       "</table>\n",
       "</div>"
      ],
      "text/plain": [
       "   Age  Marital Status  N Stage  6th Stage  Grade  A Stage  Tumor Size  \\\n",
       "0   43               0        2          0      1        0          40   \n",
       "1   47               0        1          1      1        0          45   \n",
       "2   67               0        0          2      4        0          25   \n",
       "3   46               1        0          3      1        0          19   \n",
       "4   63               0        1          1      1        0          35   \n",
       "\n",
       "   Estrogen Status  Progesterone Status  Regional Node Examined  \\\n",
       "0                0                    0                      19   \n",
       "1                0                    0                      25   \n",
       "2                0                    0                       4   \n",
       "3                0                    0                      26   \n",
       "4                0                    0                      21   \n",
       "\n",
       "   Reginol Node Positive  Survival Months  Status  \n",
       "0                     11                1       0  \n",
       "1                      9                2       0  \n",
       "2                      1                2       1  \n",
       "3                      1                2       1  \n",
       "4                      5                3       1  "
      ]
     },
     "execution_count": 6,
     "metadata": {},
     "output_type": "execute_result"
    }
   ],
   "source": [
    "data.head()\n"
   ]
  },
  {
   "cell_type": "code",
   "execution_count": 7,
   "metadata": {
    "colab": {
     "base_uri": "https://localhost:8080/"
    },
    "id": "Cl_-00UuLxr7",
    "outputId": "fe611608-f61a-4950-d364-bce49f4ece3a"
   },
   "outputs": [
    {
     "name": "stdout",
     "output_type": "stream",
     "text": [
      "<class 'pandas.core.frame.DataFrame'>\n",
      "RangeIndex: 4024 entries, 0 to 4023\n",
      "Data columns (total 13 columns):\n",
      " #   Column                  Non-Null Count  Dtype\n",
      "---  ------                  --------------  -----\n",
      " 0   Age                     4024 non-null   int64\n",
      " 1   Marital Status          4024 non-null   int64\n",
      " 2   N Stage                 4024 non-null   int64\n",
      " 3   6th Stage               4024 non-null   int64\n",
      " 4   Grade                   4024 non-null   int64\n",
      " 5   A Stage                 4024 non-null   int64\n",
      " 6   Tumor Size              4024 non-null   int64\n",
      " 7   Estrogen Status         4024 non-null   int64\n",
      " 8   Progesterone Status     4024 non-null   int64\n",
      " 9   Regional Node Examined  4024 non-null   int64\n",
      " 10  Reginol Node Positive   4024 non-null   int64\n",
      " 11  Survival Months         4024 non-null   int64\n",
      " 12  Status                  4024 non-null   int64\n",
      "dtypes: int64(13)\n",
      "memory usage: 408.8 KB\n"
     ]
    }
   ],
   "source": [
    "data.info()"
   ]
  },
  {
   "cell_type": "code",
   "execution_count": 8,
   "metadata": {
    "id": "R5OftULKLsRc"
   },
   "outputs": [],
   "source": [
    "# Data Splitting\n",
    "x=data.drop(\"Status\",axis=1) # Features \n",
    "y=data['Status']\n",
    "x_train,x_test,y_train,y_test=train_test_split(x,y,test_size=0.3)"
   ]
  },
  {
   "cell_type": "code",
   "execution_count": 9,
   "metadata": {
    "id": "7S4gnlBdLnkM"
   },
   "outputs": [],
   "source": [
    "# Feature scaling\n",
    "scaler=StandardScaler()\n",
    "x_train=scaler.fit_transform(x_train)\n",
    "x_test=scaler.fit_transform(x_test)"
   ]
  },
  {
   "cell_type": "markdown",
   "metadata": {
    "id": "8tb_tZDXPjBj"
   },
   "source": [
    "# Without Balancing"
   ]
  },
  {
   "cell_type": "code",
   "execution_count": 10,
   "metadata": {
    "id": "uUYveb86NGPd"
   },
   "outputs": [],
   "source": [
    "# Logistic Regression"
   ]
  },
  {
   "cell_type": "code",
   "execution_count": 13,
   "metadata": {
    "colab": {
     "base_uri": "https://localhost:8080/"
    },
    "id": "f1wcIdXVP4km",
    "outputId": "88d638c2-30e0-47ad-d324-2ac9d21d62b3"
   },
   "outputs": [
    {
     "name": "stdout",
     "output_type": "stream",
     "text": [
      "Accuracy : \n",
      " 0.890728476821192\n",
      "\n",
      "Classification Report: \n",
      "               precision    recall  f1-score   support\n",
      "\n",
      "           0       0.91      0.97      0.94      1033\n",
      "           1       0.71      0.42      0.53       175\n",
      "\n",
      "    accuracy                           0.89      1208\n",
      "   macro avg       0.81      0.69      0.73      1208\n",
      "weighted avg       0.88      0.89      0.88      1208\n",
      "\n",
      "\n",
      "Confusion Matrix : \n",
      " [[1003   30]\n",
      " [ 102   73]]\n"
     ]
    }
   ],
   "source": [
    "l=LogisticRegression()\n",
    "l.fit(x_train,y_train)\n",
    "prediction=l.predict(x_test)\n",
    "print(\"Accuracy : \\n\",metrics.accuracy_score(y_test,prediction))\n",
    "print(\"\\nClassification Report: \\n\",metrics.classification_report(y_test,prediction))\n",
    "print(\"\\nConfusion Matrix : \\n\",metrics.confusion_matrix(y_test,prediction))\n",
    "lo=metrics.accuracy_score(y_test,prediction)"
   ]
  },
  {
   "cell_type": "code",
   "execution_count": 14,
   "metadata": {
    "id": "gVLcfcqL7aZh"
   },
   "outputs": [],
   "source": [
    "# Gaussian Naive Bayes"
   ]
  },
  {
   "cell_type": "code",
   "execution_count": 15,
   "metadata": {
    "colab": {
     "base_uri": "https://localhost:8080/"
    },
    "id": "pOY5UhUM7glR",
    "outputId": "c90619af-1306-41fd-9911-643a60926239"
   },
   "outputs": [
    {
     "name": "stdout",
     "output_type": "stream",
     "text": [
      "Accuracy : \n",
      " 0.8062913907284768\n",
      "\n",
      "Classification Report: \n",
      "               precision    recall  f1-score   support\n",
      "\n",
      "           0       0.90      0.86      0.88      1033\n",
      "           1       0.37      0.46      0.41       175\n",
      "\n",
      "    accuracy                           0.81      1208\n",
      "   macro avg       0.64      0.66      0.65      1208\n",
      "weighted avg       0.83      0.81      0.82      1208\n",
      "\n",
      "\n",
      "Confusion Matrix : \n",
      " [[893 140]\n",
      " [ 94  81]]\n"
     ]
    }
   ],
   "source": [
    "gnb=GaussianNB()\n",
    "gnb.fit(x_train,y_train)\n",
    "prediction=gnb.predict(x_test)\n",
    "print(\"Accuracy : \\n\",metrics.accuracy_score(y_test,prediction))\n",
    "print(\"\\nClassification Report: \\n\",metrics.classification_report(y_test,prediction))\n",
    "print(\"\\nConfusion Matrix : \\n\",metrics.confusion_matrix(y_test,prediction))\n",
    "g=metrics.accuracy_score(y_test,prediction)\n"
   ]
  },
  {
   "cell_type": "code",
   "execution_count": 16,
   "metadata": {
    "id": "_iTKMvJ_75Sq"
   },
   "outputs": [],
   "source": [
    "# Decision Tree method"
   ]
  },
  {
   "cell_type": "code",
   "execution_count": 17,
   "metadata": {
    "colab": {
     "base_uri": "https://localhost:8080/"
    },
    "id": "gzymtYNV78Xg",
    "outputId": "a194d6ae-9077-44a0-8f85-336ae2ebd828"
   },
   "outputs": [
    {
     "name": "stdout",
     "output_type": "stream",
     "text": [
      "Accuracy : \n",
      " 0.8062913907284768\n",
      "\n",
      "Classification Report: \n",
      "               precision    recall  f1-score   support\n",
      "\n",
      "           0       0.91      0.86      0.88      1033\n",
      "           1       0.37      0.47      0.41       175\n",
      "\n",
      "    accuracy                           0.81      1208\n",
      "   macro avg       0.64      0.67      0.65      1208\n",
      "weighted avg       0.83      0.81      0.82      1208\n",
      "\n",
      "\n",
      "Confusion Matrix : \n",
      " [[892 141]\n",
      " [ 93  82]]\n"
     ]
    }
   ],
   "source": [
    "dt=DecisionTreeClassifier()\n",
    "dt.fit(x_train,y_train)\n",
    "prediction=dt.predict(x_test)\n",
    "print(\"Accuracy : \\n\",metrics.accuracy_score(y_test,prediction))\n",
    "print(\"\\nClassification Report: \\n\",metrics.classification_report(y_test,prediction))\n",
    "print(\"\\nConfusion Matrix : \\n\",metrics.confusion_matrix(y_test,prediction))\n",
    "d=metrics.accuracy_score(y_test,prediction)"
   ]
  },
  {
   "cell_type": "code",
   "execution_count": 18,
   "metadata": {
    "id": "cMlxnm5J8LWE"
   },
   "outputs": [],
   "source": [
    "# Linear SVM"
   ]
  },
  {
   "cell_type": "code",
   "execution_count": 19,
   "metadata": {
    "colab": {
     "base_uri": "https://localhost:8080/"
    },
    "id": "MGwHTtuK8N8b",
    "outputId": "c4a915ce-b05c-4dac-ae68-654b731fd55c"
   },
   "outputs": [
    {
     "name": "stdout",
     "output_type": "stream",
     "text": [
      "Accuracy : \n",
      " 0.8948675496688742\n",
      "\n",
      "Classification Report: \n",
      "               precision    recall  f1-score   support\n",
      "\n",
      "           0       0.91      0.98      0.94      1033\n",
      "           1       0.76      0.41      0.53       175\n",
      "\n",
      "    accuracy                           0.89      1208\n",
      "   macro avg       0.83      0.69      0.73      1208\n",
      "weighted avg       0.88      0.89      0.88      1208\n",
      "\n",
      "\n",
      "Confusion Matrix : \n",
      " [[1010   23]\n",
      " [ 104   71]]\n"
     ]
    }
   ],
   "source": [
    "s=SVC(kernel='linear')\n",
    "s.fit(x_train,y_train)\n",
    "prediction=s.predict(x_test)\n",
    "print(\"Accuracy : \\n\",metrics.accuracy_score(y_test,prediction))\n",
    "print(\"\\nClassification Report: \\n\",metrics.classification_report(y_test,prediction))\n",
    "print(\"\\nConfusion Matrix : \\n\",metrics.confusion_matrix(y_test,prediction))\n",
    "sv=metrics.accuracy_score(y_test,prediction)"
   ]
  },
  {
   "cell_type": "code",
   "execution_count": 20,
   "metadata": {
    "colab": {
     "base_uri": "https://localhost:8080/",
     "height": 282
    },
    "id": "IfmfbhT08lri",
    "outputId": "615a1322-482c-4176-b1c6-9fec6c388c62"
   },
   "outputs": [
    {
     "data": {
      "text/plain": [
       "Text(0, 0.5, 'Accuracy')"
      ]
     },
     "execution_count": 20,
     "metadata": {},
     "output_type": "execute_result"
    },
    {
     "data": {
      "image/png": "[encoded data removed]",
      "text/plain": [
       "<Figure size 432x288 with 1 Axes>"
      ]
     },
     "metadata": {
      "needs_background": "light"
     },
     "output_type": "display_data"
    }
   ],
   "source": [
    "datachart={'Logistic': lo,'Gaussian':g,'DecisionTree':d,'Linear SVM':sv}\n",
    "keys=list(datachart.keys())\n",
    "values=list(datachart.values())\n",
    "\n",
    "plt.bar(keys,values, width=0.3)\n",
    "plt.ylabel('Accuracy')\n"
   ]
  },
  {
   "cell_type": "markdown",
   "metadata": {
    "id": "8XJfsyBe9tKU"
   },
   "source": [
    "# Random OverSampling"
   ]
  },
  {
   "cell_type": "code",
   "execution_count": 21,
   "metadata": {
    "colab": {
     "base_uri": "https://localhost:8080/"
    },
    "id": "QWR_e23s9nyV",
    "outputId": "0e9302fc-3713-4439-b96d-092018f81bfc"
   },
   "outputs": [],
   "source": [
    "from imblearn.over_sampling import RandomOverSampler\n",
    "import numpy as np\n",
    "oversample=RandomOverSampler(sampling_strategy='minority')\n",
    "x_over_train,y_over_train=oversample.fit_resample(x_train,y_train)"
   ]
  },
  {
   "cell_type": "code",
   "execution_count": 22,
   "metadata": {
    "colab": {
     "base_uri": "https://localhost:8080/"
    },
    "id": "0TtJpmAe_NzJ",
    "outputId": "1bce7c62-fc8b-4add-9269-83ba0fa76f69"
   },
   "outputs": [
    {
     "data": {
      "text/plain": [
       "(array([0, 1], dtype=int64), array([2375, 2375], dtype=int64))"
      ]
     },
     "execution_count": 22,
     "metadata": {},
     "output_type": "execute_result"
    }
   ],
   "source": [
    "np.unique(y_over_train,return_counts=True)"
   ]
  },
  {
   "cell_type": "code",
   "execution_count": 23,
   "metadata": {
    "id": "TV73Yqqr_S7R"
   },
   "outputs": [],
   "source": [
    "# scaling\n",
    "x_over_train=scaler.fit_transform(x_over_train)\n",
    "x_test=scaler.fit_transform(x_test)"
   ]
  },
  {
   "cell_type": "markdown",
   "metadata": {},
   "source": [
    "# With Modeling DATA"
   ]
  },
  {
   "cell_type": "markdown",
   "metadata": {
    "id": "RPulNnTd_7K5"
   },
   "source": [
    "<h4>Linear SVM</h4>"
   ]
  },
  {
   "cell_type": "code",
   "execution_count": 25,
   "metadata": {
    "colab": {
     "base_uri": "https://localhost:8080/"
    },
    "id": "aYCnQTG1_kq2",
    "outputId": "e051727c-9b9f-4eee-c08d-2b90f93758ff"
   },
   "outputs": [
    {
     "name": "stdout",
     "output_type": "stream",
     "text": [
      "Accuracy : \n",
      " 0.6208609271523179\n",
      "\n",
      "Classification Report: \n",
      "               precision    recall  f1-score   support\n",
      "\n",
      "           0       0.96      0.58      0.72      1033\n",
      "           1       0.25      0.84      0.39       175\n",
      "\n",
      "    accuracy                           0.62      1208\n",
      "   macro avg       0.61      0.71      0.56      1208\n",
      "weighted avg       0.85      0.62      0.68      1208\n",
      "\n",
      "\n",
      "Confusion Matrix : \n",
      " [[603 430]\n",
      " [ 28 147]]\n"
     ]
    }
   ],
   "source": [
    "s=SVC(kernel='linear')\n",
    "s.fit(x_over_train,y_over_train)\n",
    "prediction=s.predict(x_test)\n",
    "print(\"Accuracy : \\n\",metrics.accuracy_score(y_test,prediction))\n",
    "print(\"\\nClassification Report: \\n\",metrics.classification_report(y_test,prediction))\n",
    "print(\"\\nConfusion Matrix : \\n\",metrics.confusion_matrix(y_test,prediction))\n",
    "sv=metrics.accuracy_score(y_test,prediction)"
   ]
  },
  {
   "cell_type": "code",
   "execution_count": 26,
   "metadata": {
    "id": "ihLWIps9_ID0"
   },
   "outputs": [],
   "source": [
    "# Decision Tree Method"
   ]
  },
  {
   "cell_type": "code",
   "execution_count": 27,
   "metadata": {
    "colab": {
     "base_uri": "https://localhost:8080/"
    },
    "id": "ePm25qPMAG45",
    "outputId": "41865280-aa04-4226-f6c1-601faee21fee"
   },
   "outputs": [
    {
     "name": "stdout",
     "output_type": "stream",
     "text": [
      "Accuracy : \n",
      " 0.7127483443708609\n",
      "\n",
      "Classification Report: \n",
      "               precision    recall  f1-score   support\n",
      "\n",
      "           0       0.91      0.74      0.82      1033\n",
      "           1       0.26      0.54      0.35       175\n",
      "\n",
      "    accuracy                           0.71      1208\n",
      "   macro avg       0.58      0.64      0.58      1208\n",
      "weighted avg       0.81      0.71      0.75      1208\n",
      "\n",
      "\n",
      "Confusion Matrix : \n",
      " [[766 267]\n",
      " [ 80  95]]\n"
     ]
    }
   ],
   "source": [
    "dt=DecisionTreeClassifier()\n",
    "dt.fit(x_over_train,y_over_train)\n",
    "prediction=dt.predict(x_test)\n",
    "print(\"Accuracy : \\n\",metrics.accuracy_score(y_test,prediction))\n",
    "print(\"\\nClassification Report: \\n\",metrics.classification_report(y_test,prediction))\n",
    "print(\"\\nConfusion Matrix : \\n\",metrics.confusion_matrix(y_test,prediction))\n",
    "d=metrics.accuracy_score(y_test,prediction)"
   ]
  },
  {
   "cell_type": "code",
   "execution_count": 28,
   "metadata": {
    "id": "_GMh_L-vALxk"
   },
   "outputs": [],
   "source": [
    "# Gaussian Naive Bayes"
   ]
  },
  {
   "cell_type": "code",
   "execution_count": 29,
   "metadata": {
    "colab": {
     "base_uri": "https://localhost:8080/"
    },
    "id": "e3Q2_hd-AOol",
    "outputId": "4a220d7f-e762-4e49-cc74-12ad2e65a9f7"
   },
   "outputs": [
    {
     "name": "stdout",
     "output_type": "stream",
     "text": [
      "Accuracy : \n",
      " 0.722682119205298\n",
      "\n",
      "Classification Report: \n",
      "               precision    recall  f1-score   support\n",
      "\n",
      "           0       0.93      0.73      0.82      1033\n",
      "           1       0.30      0.68      0.42       175\n",
      "\n",
      "    accuracy                           0.72      1208\n",
      "   macro avg       0.61      0.70      0.62      1208\n",
      "weighted avg       0.84      0.72      0.76      1208\n",
      "\n",
      "\n",
      "Confusion Matrix : \n",
      " [[754 279]\n",
      " [ 56 119]]\n"
     ]
    }
   ],
   "source": [
    "gnb=GaussianNB()\n",
    "gnb.fit(x_over_train,y_over_train)\n",
    "prediction=gnb.predict(x_test)\n",
    "print(\"Accuracy : \\n\",metrics.accuracy_score(y_test,prediction))\n",
    "print(\"\\nClassification Report: \\n\",metrics.classification_report(y_test,prediction))\n",
    "print(\"\\nConfusion Matrix : \\n\",metrics.confusion_matrix(y_test,prediction))\n",
    "g=metrics.accuracy_score(y_test,prediction)"
   ]
  },
  {
   "cell_type": "code",
   "execution_count": 30,
   "metadata": {
    "id": "MIu5ez0EBHB0"
   },
   "outputs": [],
   "source": [
    "# Logistic regression"
   ]
  },
  {
   "cell_type": "code",
   "execution_count": 31,
   "metadata": {
    "colab": {
     "base_uri": "https://localhost:8080/"
    },
    "id": "XX6zHa61BKkL",
    "outputId": "a44181b5-3a11-4f64-e699-56a52ff78e92"
   },
   "outputs": [
    {
     "name": "stdout",
     "output_type": "stream",
     "text": [
      "Accuracy : \n",
      " 0.6167218543046358\n",
      "\n",
      "Classification Report: \n",
      "               precision    recall  f1-score   support\n",
      "\n",
      "           0       0.96      0.58      0.72      1033\n",
      "           1       0.25      0.85      0.39       175\n",
      "\n",
      "    accuracy                           0.62      1208\n",
      "   macro avg       0.61      0.71      0.56      1208\n",
      "weighted avg       0.85      0.62      0.67      1208\n",
      "\n",
      "\n",
      "Confusion Matrix : \n",
      " [[597 436]\n",
      " [ 27 148]]\n"
     ]
    }
   ],
   "source": [
    "l=LogisticRegression()\n",
    "l.fit(x_over_train,y_over_train)\n",
    "prediction=l.predict(x_test)\n",
    "print(\"Accuracy : \\n\",metrics.accuracy_score(y_test,prediction))\n",
    "print(\"\\nClassification Report: \\n\",metrics.classification_report(y_test,prediction))\n",
    "print(\"\\nConfusion Matrix : \\n\",metrics.confusion_matrix(y_test,prediction))\n",
    "lo=metrics.accuracy_score(y_test,prediction)"
   ]
  },
  {
   "cell_type": "code",
   "execution_count": 32,
   "metadata": {
    "colab": {
     "base_uri": "https://localhost:8080/",
     "height": 298
    },
    "id": "4FMgUQKfBWoj",
    "outputId": "e00b1a01-026b-495b-d2e4-68ffd3465d57"
   },
   "outputs": [
    {
     "data": {
      "text/plain": [
       "Text(0, 0.5, 'Accuracy')"
      ]
     },
     "execution_count": 32,
     "metadata": {},
     "output_type": "execute_result"
    },
    {
     "data": {
      "image/png": "[encoded data removed]",
      "text/plain": [
       "<Figure size 432x288 with 1 Axes>"
      ]
     },
     "metadata": {
      "needs_background": "light"
     },
     "output_type": "display_data"
    }
   ],
   "source": [
    "datachart={'Logistic Reg': lo,'Gaussian':g,'DecisionTree':d,'Linear SVM':sv}\n",
    "keys=list(datachart.keys())\n",
    "values=list(datachart.values())\n",
    "\n",
    "plt.title('For Random Sampling')\n",
    "plt.bar(keys,values, width=0.4)\n",
    "plt.ylabel('Accuracy')"
   ]
  },
  {
   "cell_type": "markdown",
   "metadata": {
    "id": "j6kKYfFFBpAE"
   },
   "source": [
    "# SMOTE"
   ]
  },
  {
   "cell_type": "code",
   "execution_count": 33,
   "metadata": {
    "colab": {
     "base_uri": "https://localhost:8080/"
    },
    "id": "j_lTOUqXBiYF",
    "outputId": "df5a1d04-7161-453c-f2f7-2761147b787b"
   },
   "outputs": [],
   "source": [
    "from imblearn.over_sampling import SMOTE\n",
    "oversample=SMOTE()\n",
    "x_train_smote,y_train_smote=oversample.fit_resample(x_train,y_train)"
   ]
  },
  {
   "cell_type": "code",
   "execution_count": 34,
   "metadata": {
    "colab": {
     "base_uri": "https://localhost:8080/"
    },
    "id": "kROxnfGMB-qm",
    "outputId": "5f40b6a9-de55-454a-9a42-e5f947582ffe"
   },
   "outputs": [
    {
     "data": {
      "text/plain": [
       "(array([0, 1], dtype=int64), array([2375, 2375], dtype=int64))"
      ]
     },
     "execution_count": 34,
     "metadata": {},
     "output_type": "execute_result"
    }
   ],
   "source": [
    "np.unique(y_train_smote,return_counts=True)"
   ]
  },
  {
   "cell_type": "code",
   "execution_count": 35,
   "metadata": {
    "id": "61xXDQ_4CGCx"
   },
   "outputs": [],
   "source": [
    "# scaling\n",
    "x_train_smote=scaler.fit_transform(x_train_smote)\n",
    "x_test=scaler.fit_transform(x_test)"
   ]
  },
  {
   "cell_type": "code",
   "execution_count": 36,
   "metadata": {
    "id": "jWw_T7PpCWDh"
   },
   "outputs": [],
   "source": [
    "# Linear SVM"
   ]
  },
  {
   "cell_type": "code",
   "execution_count": 37,
   "metadata": {
    "colab": {
     "base_uri": "https://localhost:8080/"
    },
    "id": "VyXNFfSXCROP",
    "outputId": "c79f6f85-ad32-4296-ccdb-d541894003d8"
   },
   "outputs": [
    {
     "name": "stdout",
     "output_type": "stream",
     "text": [
      "Accuracy : \n",
      " 0.6233443708609272\n",
      "\n",
      "Classification Report: \n",
      "               precision    recall  f1-score   support\n",
      "\n",
      "           0       0.95      0.59      0.73      1033\n",
      "           1       0.26      0.83      0.39       175\n",
      "\n",
      "    accuracy                           0.62      1208\n",
      "   macro avg       0.60      0.71      0.56      1208\n",
      "weighted avg       0.85      0.62      0.68      1208\n",
      "\n",
      "\n",
      "Confusion Matrix : \n",
      " [[607 426]\n",
      " [ 29 146]]\n"
     ]
    }
   ],
   "source": [
    "s=SVC(kernel='linear')\n",
    "s.fit(x_train_smote,y_train_smote)\n",
    "prediction=s.predict(x_test)\n",
    "print(\"Accuracy : \\n\",metrics.accuracy_score(y_test,prediction))\n",
    "print(\"\\nClassification Report: \\n\",metrics.classification_report(y_test,prediction))\n",
    "print(\"\\nConfusion Matrix : \\n\",metrics.confusion_matrix(y_test,prediction))\n",
    "sv=metrics.accuracy_score(y_test,prediction)"
   ]
  },
  {
   "cell_type": "code",
   "execution_count": 38,
   "metadata": {
    "id": "3s5Uxe9ICZOu"
   },
   "outputs": [],
   "source": [
    "# Decision Tree"
   ]
  },
  {
   "cell_type": "code",
   "execution_count": 39,
   "metadata": {
    "colab": {
     "base_uri": "https://localhost:8080/"
    },
    "id": "bxR7NNEJChhl",
    "outputId": "051821de-2950-44a2-8f45-01311f067d9f"
   },
   "outputs": [
    {
     "name": "stdout",
     "output_type": "stream",
     "text": [
      "Accuracy : \n",
      " 0.35844370860927155\n",
      "\n",
      "Classification Report: \n",
      "               precision    recall  f1-score   support\n",
      "\n",
      "           0       0.88      0.29      0.44      1033\n",
      "           1       0.15      0.76      0.26       175\n",
      "\n",
      "    accuracy                           0.36      1208\n",
      "   macro avg       0.52      0.53      0.35      1208\n",
      "weighted avg       0.77      0.36      0.41      1208\n",
      "\n",
      "\n",
      "Confusion Matrix : \n",
      " [[300 733]\n",
      " [ 42 133]]\n"
     ]
    }
   ],
   "source": [
    "dt=DecisionTreeClassifier()\n",
    "dt.fit(x_train_smote,y_train_smote)\n",
    "prediction=dt.predict(x_test)\n",
    "print(\"Accuracy : \\n\",metrics.accuracy_score(y_test,prediction))\n",
    "print(\"\\nClassification Report: \\n\",metrics.classification_report(y_test,prediction))\n",
    "print(\"\\nConfusion Matrix : \\n\",metrics.confusion_matrix(y_test,prediction))\n",
    "d=metrics.accuracy_score(y_test,prediction)"
   ]
  },
  {
   "cell_type": "code",
   "execution_count": 40,
   "metadata": {
    "id": "GCiQbdC6Co88"
   },
   "outputs": [],
   "source": [
    "# Gaussian Naive Bayes"
   ]
  },
  {
   "cell_type": "code",
   "execution_count": 41,
   "metadata": {
    "colab": {
     "base_uri": "https://localhost:8080/"
    },
    "id": "y5v7lm3gC8vn",
    "outputId": "5d0a2662-2981-42a1-a698-85ce1467435a"
   },
   "outputs": [
    {
     "name": "stdout",
     "output_type": "stream",
     "text": [
      "Accuracy : \n",
      " 0.7293046357615894\n",
      "\n",
      "Classification Report: \n",
      "               precision    recall  f1-score   support\n",
      "\n",
      "           0       0.93      0.74      0.82      1033\n",
      "           1       0.31      0.68      0.42       175\n",
      "\n",
      "    accuracy                           0.73      1208\n",
      "   macro avg       0.62      0.71      0.62      1208\n",
      "weighted avg       0.84      0.73      0.77      1208\n",
      "\n",
      "\n",
      "Confusion Matrix : \n",
      " [[762 271]\n",
      " [ 56 119]]\n"
     ]
    }
   ],
   "source": [
    "gnb=GaussianNB()\n",
    "gnb.fit(x_train_smote,y_train_smote)\n",
    "prediction=gnb.predict(x_test)\n",
    "print(\"Accuracy : \\n\",metrics.accuracy_score(y_test,prediction))\n",
    "print(\"\\nClassification Report: \\n\",metrics.classification_report(y_test,prediction))\n",
    "print(\"\\nConfusion Matrix : \\n\",metrics.confusion_matrix(y_test,prediction))\n",
    "g=metrics.accuracy_score(y_test,prediction)"
   ]
  },
  {
   "cell_type": "code",
   "execution_count": 42,
   "metadata": {
    "id": "EtIjURQ5DEGv"
   },
   "outputs": [],
   "source": [
    "# Logistic regression"
   ]
  },
  {
   "cell_type": "code",
   "execution_count": 43,
   "metadata": {
    "colab": {
     "base_uri": "https://localhost:8080/"
    },
    "id": "Oer4dH8XDL47",
    "outputId": "fabec857-046b-48b0-d395-44fdb878886c"
   },
   "outputs": [
    {
     "name": "stdout",
     "output_type": "stream",
     "text": [
      "Accuracy : \n",
      " 0.6225165562913907\n",
      "\n",
      "Classification Report: \n",
      "               precision    recall  f1-score   support\n",
      "\n",
      "           0       0.95      0.59      0.73      1033\n",
      "           1       0.25      0.83      0.39       175\n",
      "\n",
      "    accuracy                           0.62      1208\n",
      "   macro avg       0.60      0.71      0.56      1208\n",
      "weighted avg       0.85      0.62      0.68      1208\n",
      "\n",
      "\n",
      "Confusion Matrix : \n",
      " [[607 426]\n",
      " [ 30 145]]\n"
     ]
    }
   ],
   "source": [
    "l=LogisticRegression()\n",
    "l.fit(x_train_smote,y_train_smote)\n",
    "prediction=l.predict(x_test)\n",
    "print(\"Accuracy : \\n\",metrics.accuracy_score(y_test,prediction))\n",
    "print(\"\\nClassification Report: \\n\",metrics.classification_report(y_test,prediction))\n",
    "print(\"\\nConfusion Matrix : \\n\",metrics.confusion_matrix(y_test,prediction))\n",
    "lo=metrics.accuracy_score(y_test,prediction)"
   ]
  },
  {
   "cell_type": "code",
   "execution_count": 44,
   "metadata": {
    "colab": {
     "base_uri": "https://localhost:8080/",
     "height": 298
    },
    "id": "uAiRuZ9kDS8B",
    "outputId": "7e616c58-ef72-43f3-94a4-d167235e5a81"
   },
   "outputs": [
    {
     "data": {
      "text/plain": [
       "Text(0, 0.5, 'Accuracy')"
      ]
     },
     "execution_count": 44,
     "metadata": {},
     "output_type": "execute_result"
    },
    {
     "data": {
      "image/png": "[encoded data removed]",
      "text/plain": [
       "<Figure size 432x288 with 1 Axes>"
      ]
     },
     "metadata": {
      "needs_background": "light"
     },
     "output_type": "display_data"
    }
   ],
   "source": [
    "datachart={'Logistic': lo,'Gaussian':g,'DecisionTree':d,'Linear SVM':sv}\n",
    "keys=list(datachart.keys())\n",
    "values=list(datachart.values())\n",
    "\n",
    "plt.title('For SMOTE')\n",
    "plt.bar(keys,values, width=0.3)\n",
    "plt.ylabel('Accuracy')"
   ]
  },
  {
   "cell_type": "markdown",
   "metadata": {
    "id": "ZTW_yzQxDZEF"
   },
   "source": [
    "# Borderline SMOTE"
   ]
  },
  {
   "cell_type": "code",
   "execution_count": 45,
   "metadata": {
    "colab": {
     "base_uri": "https://localhost:8080/"
    },
    "id": "r8kiHVtgDWJi",
    "outputId": "b4549e74-8dc1-4533-8004-8a49d98635a6"
   },
   "outputs": [],
   "source": [
    "from imblearn.over_sampling import BorderlineSMOTE\n",
    "oversample=BorderlineSMOTE()\n",
    "x_train_borderSmote,y_train_borderSmote=oversample.fit_resample(x_train,y_train)"
   ]
  },
  {
   "cell_type": "code",
   "execution_count": 46,
   "metadata": {
    "colab": {
     "base_uri": "https://localhost:8080/"
    },
    "id": "hELR6LrfEKsz",
    "outputId": "75616d67-2425-4876-b8ab-c4e9851b5907"
   },
   "outputs": [
    {
     "data": {
      "text/plain": [
       "(array([0, 1], dtype=int64), array([2375, 2375], dtype=int64))"
      ]
     },
     "execution_count": 46,
     "metadata": {},
     "output_type": "execute_result"
    }
   ],
   "source": [
    "np.unique(y_train_borderSmote,return_counts=True)"
   ]
  },
  {
   "cell_type": "code",
   "execution_count": 47,
   "metadata": {
    "id": "tdZBy7grERaS"
   },
   "outputs": [],
   "source": [
    "# scaling\n",
    "x_train_borderSmote=scaler.fit_transform(x_train_borderSmote)\n",
    "x_test=scaler.fit_transform(x_test)"
   ]
  },
  {
   "cell_type": "code",
   "execution_count": 48,
   "metadata": {
    "id": "6muR1pwdEdgY"
   },
   "outputs": [],
   "source": [
    "# Linear SVM"
   ]
  },
  {
   "cell_type": "code",
   "execution_count": 49,
   "metadata": {
    "colab": {
     "base_uri": "https://localhost:8080/"
    },
    "id": "ZtEikHOxEtez",
    "outputId": "aecab9ea-e98d-4eea-c48e-ff8486153fef"
   },
   "outputs": [
    {
     "name": "stdout",
     "output_type": "stream",
     "text": [
      "Accuracy : \n",
      " 0.625\n",
      "\n",
      "Classification Report: \n",
      "               precision    recall  f1-score   support\n",
      "\n",
      "           0       0.95      0.59      0.73      1033\n",
      "           1       0.26      0.83      0.39       175\n",
      "\n",
      "    accuracy                           0.62      1208\n",
      "   macro avg       0.60      0.71      0.56      1208\n",
      "weighted avg       0.85      0.62      0.68      1208\n",
      "\n",
      "\n",
      "Confusion Matrix : \n",
      " [[610 423]\n",
      " [ 30 145]]\n"
     ]
    }
   ],
   "source": [
    "s=SVC(kernel='linear')\n",
    "s.fit(x_train_borderSmote,y_train_borderSmote)\n",
    "prediction=s.predict(x_test)\n",
    "print(\"Accuracy : \\n\",metrics.accuracy_score(y_test,prediction))\n",
    "print(\"\\nClassification Report: \\n\",metrics.classification_report(y_test,prediction))\n",
    "print(\"\\nConfusion Matrix : \\n\",metrics.confusion_matrix(y_test,prediction))\n",
    "sv=metrics.accuracy_score(y_test,prediction)"
   ]
  },
  {
   "cell_type": "code",
   "execution_count": 50,
   "metadata": {
    "id": "45shG0IKEtlg"
   },
   "outputs": [],
   "source": [
    "# Gaussian Naive Bayes"
   ]
  },
  {
   "cell_type": "code",
   "execution_count": 51,
   "metadata": {
    "colab": {
     "base_uri": "https://localhost:8080/"
    },
    "id": "f6cCncEzE1wF",
    "outputId": "7558a9f0-ddae-482d-96a2-6fe7f5ea47bb"
   },
   "outputs": [
    {
     "name": "stdout",
     "output_type": "stream",
     "text": [
      "Accuracy : \n",
      " 0.7334437086092715\n",
      "\n",
      "Classification Report: \n",
      "               precision    recall  f1-score   support\n",
      "\n",
      "           0       0.93      0.74      0.83      1033\n",
      "           1       0.31      0.69      0.43       175\n",
      "\n",
      "    accuracy                           0.73      1208\n",
      "   macro avg       0.62      0.71      0.63      1208\n",
      "weighted avg       0.84      0.73      0.77      1208\n",
      "\n",
      "\n",
      "Confusion Matrix : \n",
      " [[766 267]\n",
      " [ 55 120]]\n"
     ]
    }
   ],
   "source": [
    "gnb=GaussianNB()\n",
    "gnb.fit(x_train_borderSmote,y_train_borderSmote)\n",
    "prediction=gnb.predict(x_test)\n",
    "print(\"Accuracy : \\n\",metrics.accuracy_score(y_test,prediction))\n",
    "print(\"\\nClassification Report: \\n\",metrics.classification_report(y_test,prediction))\n",
    "print(\"\\nConfusion Matrix : \\n\",metrics.confusion_matrix(y_test,prediction))\n",
    "g=metrics.accuracy_score(y_test,prediction)"
   ]
  },
  {
   "cell_type": "code",
   "execution_count": 52,
   "metadata": {
    "id": "esUJskbjE-y5"
   },
   "outputs": [],
   "source": [
    "# Decision Tree method"
   ]
  },
  {
   "cell_type": "code",
   "execution_count": 53,
   "metadata": {
    "colab": {
     "base_uri": "https://localhost:8080/"
    },
    "id": "cuOLjjJ2FCC2",
    "outputId": "4337d267-944a-4267-931f-b4835e3c0e1a"
   },
   "outputs": [
    {
     "name": "stdout",
     "output_type": "stream",
     "text": [
      "Accuracy : \n",
      " 0.5314569536423841\n",
      "\n",
      "Classification Report: \n",
      "               precision    recall  f1-score   support\n",
      "\n",
      "           0       0.93      0.49      0.64      1033\n",
      "           1       0.21      0.79      0.33       175\n",
      "\n",
      "    accuracy                           0.53      1208\n",
      "   macro avg       0.57      0.64      0.48      1208\n",
      "weighted avg       0.83      0.53      0.60      1208\n",
      "\n",
      "\n",
      "Confusion Matrix : \n",
      " [[504 529]\n",
      " [ 37 138]]\n"
     ]
    }
   ],
   "source": [
    "dt=DecisionTreeClassifier()\n",
    "dt.fit(x_train_borderSmote,y_train_borderSmote)\n",
    "prediction=dt.predict(x_test)\n",
    "print(\"Accuracy : \\n\",metrics.accuracy_score(y_test,prediction))\n",
    "print(\"\\nClassification Report: \\n\",metrics.classification_report(y_test,prediction))\n",
    "print(\"\\nConfusion Matrix : \\n\",metrics.confusion_matrix(y_test,prediction))\n",
    "d=metrics.accuracy_score(y_test,prediction)"
   ]
  },
  {
   "cell_type": "code",
   "execution_count": 54,
   "metadata": {
    "id": "ESIXFECEFG7h"
   },
   "outputs": [],
   "source": [
    "# Logistic Regression"
   ]
  },
  {
   "cell_type": "code",
   "execution_count": 55,
   "metadata": {
    "colab": {
     "base_uri": "https://localhost:8080/"
    },
    "id": "5IgpwAJBFJUw",
    "outputId": "7ad0ec8f-0756-4454-f204-d50eed90ad2f"
   },
   "outputs": [
    {
     "name": "stdout",
     "output_type": "stream",
     "text": [
      "Accuracy : \n",
      " 0.6390728476821192\n",
      "\n",
      "Classification Report: \n",
      "               precision    recall  f1-score   support\n",
      "\n",
      "           0       0.95      0.61      0.74      1033\n",
      "           1       0.26      0.82      0.40       175\n",
      "\n",
      "    accuracy                           0.64      1208\n",
      "   macro avg       0.61      0.71      0.57      1208\n",
      "weighted avg       0.85      0.64      0.69      1208\n",
      "\n",
      "\n",
      "Confusion Matrix : \n",
      " [[629 404]\n",
      " [ 32 143]]\n"
     ]
    }
   ],
   "source": [
    "l=LogisticRegression()\n",
    "l.fit(x_train_borderSmote,y_train_borderSmote)\n",
    "prediction=l.predict(x_test)\n",
    "print(\"Accuracy : \\n\",metrics.accuracy_score(y_test,prediction))\n",
    "print(\"\\nClassification Report: \\n\",metrics.classification_report(y_test,prediction))\n",
    "print(\"\\nConfusion Matrix : \\n\",metrics.confusion_matrix(y_test,prediction))\n",
    "lo=metrics.accuracy_score(y_test,prediction)"
   ]
  },
  {
   "cell_type": "code",
   "execution_count": 56,
   "metadata": {
    "colab": {
     "base_uri": "https://localhost:8080/",
     "height": 298
    },
    "id": "gAz5wuR7FSCg",
    "outputId": "5efdf881-51ca-47d1-8380-3df035e66338"
   },
   "outputs": [
    {
     "data": {
      "text/plain": [
       "Text(0, 0.5, 'Accuracy')"
      ]
     },
     "execution_count": 56,
     "metadata": {},
     "output_type": "execute_result"
    },
    {
     "data": {
      "image/png": "[encoded data removed]",
      "text/plain": [
       "<Figure size 432x288 with 1 Axes>"
      ]
     },
     "metadata": {
      "needs_background": "light"
     },
     "output_type": "display_data"
    }
   ],
   "source": [
    "datachart={'Logistic': lo,'Gaussian':g,'DecisionTree':d,'Linear SVM':sv}\n",
    "keys=list(datachart.keys())\n",
    "values=list(datachart.values())\n",
    "\n",
    "plt.title('For Borderline SMOTE')\n",
    "plt.bar(keys,values, width=0.3)\n",
    "plt.ylabel('Accuracy')"
   ]
  },
  {
   "cell_type": "code",
   "execution_count": null,
   "metadata": {},
   "outputs": [],
   "source": []
  }
 ],
 "metadata": {
  "colab": {
   "collapsed_sections": [],
   "name": "Imbalance.ipynb",
   "provenance": [],
   "toc_visible": true
  },
  "kernelspec": {
   "display_name": "Python 3",
   "language": "python",
   "name": "python3"
  },
  "language_info": {
   "codemirror_mode": {
    "name": "ipython",
    "version": 3
   },
   "file_extension": ".py",
   "mimetype": "text/x-python",
   "name": "python",
   "nbconvert_exporter": "python",
   "pygments_lexer": "ipython3",
   "version": "3.8.8"
  }
 },
 "nbformat": 4,
 "nbformat_minor": 1
}
