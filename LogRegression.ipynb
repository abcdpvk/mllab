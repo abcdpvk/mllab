{
 "cells": [
  {
   "cell_type": "code",
   "execution_count": 20,
   "id": "354072fb",
   "metadata": {},
   "outputs": [
    {
     "name": "stdout",
     "output_type": "stream",
     "text": [
      "[[14  0  0]\n",
      " [ 0 17  1]\n",
      " [ 0  0 13]]\n",
      "              precision    recall  f1-score   support\n",
      "\n",
      "           0       1.00      1.00      1.00        14\n",
      "           1       1.00      0.94      0.97        18\n",
      "           2       0.93      1.00      0.96        13\n",
      "\n",
      "    accuracy                           0.98        45\n",
      "   macro avg       0.98      0.98      0.98        45\n",
      "weighted avg       0.98      0.98      0.98        45\n",
      "\n"
     ]
    }
   ],
   "source": [
    "import sklearn.datasets as datasets\n",
    "import pandas as pd\n",
    "iris=datasets.load_iris()\n",
    "X=pd. DataFrame (iris.data, columns=iris.feature_names)\n",
    "y=iris.target\n",
    "from sklearn.model_selection import train_test_split\n",
    "\n",
    "X_train, x_test, y_train, y_test = train_test_split(X, y, test_size=0.3, random_state=1)\n",
    "\n",
    "from sklearn.linear_model import LogisticRegression\n",
    "\n",
    "from sklearn import metrics\n",
    "logreg = LogisticRegression()\n",
    "logreg.fit(X_train, y_train)\n",
    "predictions=logreg.predict(x_test)\n",
    "from sklearn.metrics import classification_report,confusion_matrix\n",
    "print (confusion_matrix(y_test, predictions))\n",
    "print (classification_report (y_test, predictions) )\n",
    "\n"
   ]
  },
  {
   "cell_type": "code",
   "execution_count": 17,
   "id": "45a1b81d",
   "metadata": {},
   "outputs": [
    {
     "name": "stdout",
     "output_type": "stream",
     "text": [
      "****# Predictions***\n",
      "[0 0 0 0 0 0 0 0 0 0 0 0 0 0 0 0 0 0 0 0 0 0 0 0 0 1 1 1 1 1 1 1 1 1 1 1 1\n",
      " 1 2 1 1 1 1 1 1 1 1 1 1 1 2 2 2 2 2 2 2 2 2 1 2 2 2 2 2 2 1 2 2 2 2 2 2 2\n",
      " 2]\n",
      "*****\n",
      "Accuracy: 0.96\n",
      "              precision    recall  f1-score   support\n",
      "\n",
      "           0       1.00      1.00      1.00        25\n",
      "           1       0.92      0.96      0.94        25\n",
      "           2       0.96      0.92      0.94        25\n",
      "\n",
      "    accuracy                           0.96        75\n",
      "   macro avg       0.96      0.96      0.96        75\n",
      "weighted avg       0.96      0.96      0.96        75\n",
      "\n",
      "[[25  0  0]\n",
      " [ 0 24  1]\n",
      " [ 0  2 23]]\n"
     ]
    }
   ],
   "source": [
    "import numpy \n",
    "from sklearn import datasets, metrics\n",
    "from sklearn.naive_bayes import GaussianNB \n",
    "X, y=datasets. load_iris (return_X_y=True)\n",
    "#print (X)\n",
    "#print(y)\n",
    "\n",
    "X_train=X[range(0, 150,2), :]\n",
    "y_train=y[range (0,150,2)]\n",
    "X_test=X[range (1,150,2), :]\n",
    "y_test=y[range (1,150,2)]\n",
    "\n",
    "clf=GaussianNB () #creating instance of a classifier #BernoullinB() for Bernoulins\n",
    "#Multinomia NB() for Multinomia2NB ()\n",
    "\n",
    "clf.fit(X_train, y_train)\n",
    "prediction=clf.predict (X_test) #predict using the learnt classifier\n",
    "print(\"****# Predictions***\")\n",
    "print (prediction)\n",
    "print(\"*****\")\n",
    "\n",
    "print(\"Accuracy:\",metrics.accuracy_score(y_test, prediction, normalize=True))\n",
    "print (metrics.classification_report (y_test, prediction))\n",
    "print (metrics.confusion_matrix(y_test, prediction))"
   ]
  },
  {
   "cell_type": "code",
   "execution_count": null,
   "id": "19461478",
   "metadata": {},
   "outputs": [],
   "source": []
  }
 ],
 "metadata": {
  "kernelspec": {
   "display_name": "Python 3",
   "language": "python",
   "name": "python3"
  },
  "language_info": {
   "codemirror_mode": {
    "name": "ipython",
    "version": 3
   },
   "file_extension": ".py",
   "mimetype": "text/x-python",
   "name": "python",
   "nbconvert_exporter": "python",
   "pygments_lexer": "ipython3",
   "version": "3.8.8"
  }
 },
 "nbformat": 4,
 "nbformat_minor": 5
}
