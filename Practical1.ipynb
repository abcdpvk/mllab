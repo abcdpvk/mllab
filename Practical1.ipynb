{
 "cells": [
  {
   "cell_type": "markdown",
   "metadata": {},
   "source": [
    "<html>\n",
    "    <body>\n",
    "        <p style=\"font-size:22px;text-align:center;\"><b>Practical: 1</b></p>\n",
    "        <p style=\"font-size:20px;text-align:center;\">KHARE PRATYUSH</p>\n",
    "        <p style=\"font-size:20px;text-align:center;\">Roll-No: 20BCE519</p>\n",
    "        <p style=\"font-size:20px;text-align:center;\">Course: Machine Learning(2CS501)</p>\n",
    "    </body>\n",
    "</html>"
   ]
  },
  {
   "cell_type": "markdown",
   "metadata": {},
   "source": [
    "<html>\n",
    "    Aim: Implement a program to convert image to text and also develop a program to convert pdf to text .\n",
    "\n",
    "</html>    "
   ]
  },
  {
   "cell_type": "code",
   "execution_count": 15,
   "metadata": {},
   "outputs": [
    {
     "data": {
      "text/plain": [
       "'WHITE TEXT\\nBLACK PAGE\\n\\x0c'"
      ]
     },
     "execution_count": 15,
     "metadata": {},
     "output_type": "execute_result"
    },
    {
     "data": {
      "image/png": "[encoded data removed]",
      "text/plain": [
       "<Figure size 432x288 with 1 Axes>"
      ]
     },
     "metadata": {
      "needs_background": "light"
     },
     "output_type": "display_data"
    }
   ],
   "source": [
    "#Image to Text\n",
    "import cv2 \n",
    "import pytesseract\n",
    "import matplotlib.pyplot as plt\n",
    "\n",
    "pytesseract.pytesseract.tesseract_cmd=r'C:\\Program Files\\Tesseract-OCR\\tesseract.exe'\n",
    "img = cv2.imread('ex.png')\n",
    "\n",
    "plt.imshow(img)\n",
    "plt.axis('off')\n",
    "\n",
    "pytesseract.image_to_string(img)\n"
   ]
  },
  {
   "cell_type": "code",
   "execution_count": 21,
   "metadata": {},
   "outputs": [
    {
     "name": "stdout",
     "output_type": "stream",
     "text": [
      "amazonin\n",
      "ree)\n",
      "\n",
      "Sold By:\n",
      "\n",
      "Appario Retail Private Ltd\n",
      "\n",
      "* Plot no. 120 X and part portion of plot no. 119\n",
      "W2, Gallops Industrial Park 1, Village Rajoda,\n",
      "Taluka Bavla, District Anmedabad\n",
      "Ahmedabad, GUJARAT, 382220\n",
      "\n",
      "IN\n",
      "\n",
      "PAN No: AALCA0171E\n",
      "GST Registration No: 24AALCA0171E12Z5\n",
      "\n",
      "Order Number: 404-7780461-8429103\n",
      "Order Date: 29.05.2021\n",
      "\n",
      "Tax Invoice/Bill of Supply/Cash Memo\n",
      "(Original for Recipient)\n",
      "\n",
      "Billing Address :\n",
      "\n",
      "Vikas Sureshprasad Khare\n",
      "\n",
      "D-1, Riddhi Siddhi Flats, Somnath Chowk,, Near\n",
      "Biladi Baug\n",
      "\n",
      "Mehsana, GUJARAT, 384001\n",
      "\n",
      "IN\n",
      "\n",
      "State/UT Code: 24\n",
      "\n",
      "Shipping Address :\n",
      "\n",
      "Vikas Sureshprasad Khare\n",
      "\n",
      "Vikas Sureshprasad Khare\n",
      "\n",
      "D-1, Riddhi Siddhi Flats, Somnath Chowk,, Near\n",
      "Biladi Baug\n",
      "\n",
      "Mehsana, GUJARAT, 384001\n",
      "\n",
      "IN\n",
      "\n",
      "State/UT Code: 24\n",
      "\n",
      "Place of supply: GUJARAT\n",
      "\n",
      "Place of delivery: GUJARAT\n",
      "\n",
      "Invoice Number : AMD2-600397\n",
      "Invoice Details : GJU-AMD2-1034-2122\n",
      "Invoice Date : 01.06.2021\n",
      "\n",
      "Description Qt Tax [Tax |Tax Total\n",
      "P y Rate|Type |Amount |Amount\n",
      "\n",
      "1 |Samsung 870 EVO 250GB SATA 2.5\" Internal Solid State\n",
      "Drive (SSD) (MZ-77E250) | BO8T1TWQS9 ( BO8T1TWQS39 )\n",
      "\n",
      "HSN:85235100\n",
      "\n",
      "TOTAL:\n",
      "\n",
      "3,050.00] 1 |%3,050.00] 9% |CGST] 274.50 | %3,599.00\n",
      "9% |SGST| %274.50\n",
      "\n",
      "Amount in Words:\n",
      "Three Thousand Five Hundred Ninety-nine only\n",
      "\n",
      "For Appario Retail Private Ltd:\n",
      "\n",
      "Poa\n",
      "\n",
      "Authorized Signatory\n",
      "\n",
      "Whether tax is payable under reverse charge - No\n",
      "\n",
      " \n",
      "\n",
      "*ASSPL-Amazon Seller Services Pvt. Ltd., ARIPL-Amazon Retail India Pvt. Ltd. (only where Amazon Retail India Pvt. Ltd. fulfillment center is co-located)\n",
      "\n",
      "Customers desirous of availing input GST credit are requested to create a Business account and purchase on Amazon.in/business from Business eligible offers\n",
      "\n",
      "Please note that this invoice is not a demand for payment\n",
      "\n",
      "Page 1 of 1\n",
      "\f",
      "\n"
     ]
    }
   ],
   "source": [
    "#PDF to Text\n",
    "from PIL import Image\n",
    "import pytesseract\n",
    "import sys\n",
    "from pdf2image import convert_from_path\n",
    "import os\n",
    "  \n",
    "\n",
    "File = \"image.pdf\"\n",
    "  \n",
    "images = convert_from_path(File, 500,poppler_path=r'E:\\Softwares\\Poppler\\poppler-0.68.0\\bin') \n",
    "image_counter = 1\n",
    "\n",
    "for page in images:\n",
    "    filename = \"page_\"+str(image_counter)+\".jpg\"\n",
    "    page.save(filename, 'JPEG')\n",
    "    image_counter = image_counter + 1\n",
    "\n",
    "\n",
    "filelimit = image_counter-1\n",
    "\n",
    "for i in range(1, filelimit + 1):\n",
    "    filename = \"page_\"+str(i)+\".jpg\"\n",
    "    pytesseract.pytesseract.tesseract_cmd=r'C:\\Program Files\\Tesseract-OCR\\tesseract.exe'\n",
    "    text = str(((pytesseract.image_to_string(Image.open(filename)))))   \n",
    "    print(text)\n",
    "    \n",
    "#PDF Chosen is an Amazon Bill....\n",
    "\n",
    "        "
   ]
  },
  {
   "cell_type": "code",
   "execution_count": 17,
   "metadata": {},
   "outputs": [],
   "source": []
  },
  {
   "cell_type": "code",
   "execution_count": null,
   "metadata": {},
   "outputs": [],
   "source": []
  }
 ],
 "metadata": {
  "kernelspec": {
   "display_name": "Python 3",
   "language": "python",
   "name": "python3"
  },
  "language_info": {
   "codemirror_mode": {
    "name": "ipython",
    "version": 3
   },
   "file_extension": ".py",
   "mimetype": "text/x-python",
   "name": "python",
   "nbconvert_exporter": "python",
   "pygments_lexer": "ipython3",
   "version": "3.8.8"
  }
 },
 "nbformat": 4,
 "nbformat_minor": 4
}
