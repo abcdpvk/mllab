{
 "cells": [
  {
   "cell_type": "markdown",
   "metadata": {},
   "source": [
    "<html>\n",
    "    <body>\n",
    "        <p style=\"font-size:30px;text-align:center;\"><b>Practical 5</b></p>\n",
    "        <p style=\"font-size:20px;text-align:center;\">Name: KHARE PRATYUSH</p>\n",
    "        <p style=\"font-size:20px;text-align:center;\">Roll-No: 20BCE519</p>\n",
    "        <p style=\"font-size:20px;text-align:center;\">Course Name: Machine Learning (2CS501)</p>\n",
    "    </body>\n",
    "</html>\n",
    "    "
   ]
  },
  {
   "cell_type": "markdown",
   "metadata": {},
   "source": [
    "<p style=\"font-size:1.2em\"><b> Aim: Naive-Bayes – Multivariate Bernoulli, Multinomial and Gaussian using sklearn, KNN using sklearn</b></p>"
   ]
  },
  {
   "cell_type": "markdown",
   "metadata": {},
   "source": [
    "# Gaussian Naive Bayes"
   ]
  },
  {
   "cell_type": "code",
   "execution_count": 5,
   "metadata": {},
   "outputs": [
    {
     "name": "stdout",
     "output_type": "stream",
     "text": [
      "Accuracy: 0.9466666666666667\n",
      "\n",
      "Prediction:\n",
      " [2 1 0 2 0 2 0 1 1 1 1 1 1 1 1 0 1 1 0 0 2 1 0 0 2 0 0 1 1 0 2 1 0 2 2 1 0\n",
      " 1 1 1 2 0 2 0 0 1 2 2 1 2 1 2 1 1 2 1 1 2 1 2 1 0 2 1 1 1 1 2 0 0 2 1 0 0\n",
      " 1]\n",
      "\n",
      "Classification Report:\n",
      "               precision    recall  f1-score   support\n",
      "\n",
      "           0       1.00      1.00      1.00        21\n",
      "           1       0.88      1.00      0.94        30\n",
      "           2       1.00      0.83      0.91        24\n",
      "\n",
      "    accuracy                           0.95        75\n",
      "   macro avg       0.96      0.94      0.95        75\n",
      "weighted avg       0.95      0.95      0.95        75\n",
      "\n",
      "Confusion Matrix is as follows: \n",
      "   [[21  0  0]\n",
      " [ 0 30  0]\n",
      " [ 0  4 20]]\n"
     ]
    }
   ],
   "source": [
    "import numpy as np\n",
    "import pandas as pd\n",
    "import seaborn as sns\n",
    "import warnings\n",
    "warnings.filterwarnings(\"ignore\")\n",
    "from sklearn import datasets,metrics\n",
    "from sklearn.naive_bayes import GaussianNB\n",
    "from matplotlib import pyplot as plt\n",
    "from sklearn.model_selection import train_test_split\n",
    "\n",
    "X,y=datasets.load_iris(return_X_y=True)\n",
    "\n",
    "X_train,X_test,y_train,y_test= train_test_split(X,y,test_size=0.5,random_state=0)\n",
    "\n",
    "gnb=GaussianNB()\n",
    "\n",
    "gnb.fit(X_train, y_train)\n",
    "\n",
    "prediction = gnb.predict(X_test)\n",
    "\n",
    "print(\"Accuracy:\",metrics.accuracy_score(y_test,prediction,normalize=True))\n",
    "\n",
    "print(\"\\nPrediction:\\n\",prediction)\n",
    "\n",
    "print(\"\\nClassification Report:\\n\",metrics.classification_report(y_test,prediction))\n",
    "\n",
    "cm = metrics.confusion_matrix(y_test, prediction)\n",
    "\n",
    "print(\"Confusion Matrix is as follows: \\n  \",cm)\n",
    "\n"
   ]
  },
  {
   "cell_type": "markdown",
   "metadata": {},
   "source": [
    "# Multivariate Bernoulli "
   ]
  },
  {
   "cell_type": "code",
   "execution_count": 13,
   "metadata": {},
   "outputs": [
    {
     "name": "stdout",
     "output_type": "stream",
     "text": [
      "0    0.0\n",
      "1    0.0\n",
      "2    1.0\n",
      "3    0.0\n",
      "4    0.0\n",
      "dtype: float64\n",
      "\n",
      "Accuracy : \n",
      " 0.8602461984069515\n",
      "\n",
      "Confusion Matrix : \n",
      " [[758  94]\n",
      " [ 99 430]]\n",
      "\n",
      "Classification Report : \n",
      "               precision    recall  f1-score   support\n",
      "\n",
      "         0.0       0.88      0.89      0.89       852\n",
      "         1.0       0.82      0.81      0.82       529\n",
      "\n",
      "    accuracy                           0.86      1381\n",
      "   macro avg       0.85      0.85      0.85      1381\n",
      "weighted avg       0.86      0.86      0.86      1381\n",
      "\n"
     ]
    }
   ],
   "source": [
    "import urllib\n",
    "from sklearn.naive_bayes import BernoulliNB\n",
    "\n",
    "url=\"https://archive.ics.uci.edu/ml/machine-learning-databases/spambase/spambase.data\"\n",
    "\n",
    "raw_data= urllib.request.urlopen(url)\n",
    "data= np.loadtxt(raw_data,delimiter=',')\n",
    "\n",
    "x=data[:,0:48]\n",
    "y=data[:,-1]\n",
    "\n",
    "xtrain, xtest, ytrain, ytest=train_test_split(x,y, test_size=0.3, random_state=50)\n",
    "\n",
    "bernoulli = BernoulliNB(binarize=True)\n",
    "bernoulli.fit(xtrain,ytrain)\n",
    "ypred=bernoulli.predict(xtest)\n",
    "print(pd.Series(ypred).head())\n",
    "\n",
    "print(\"\\nAccuracy : \\n\",metrics.accuracy_score(ytest,ypred,normalize=True))\n",
    "print(\"\\nConfusion Matrix : \\n\",metrics.confusion_matrix(ytest, ypred))\n",
    "print(\"\\nClassification Report : \\n\",metrics.classification_report(ytest,ypred))\n"
   ]
  },
  {
   "cell_type": "markdown",
   "metadata": {},
   "source": [
    "# Multinomial Naive Bayes"
   ]
  },
  {
   "cell_type": "code",
   "execution_count": 7,
   "metadata": {},
   "outputs": [
    {
     "name": "stdout",
     "output_type": "stream",
     "text": [
      "Accuracy: 0.9856424982053122\n",
      "\n",
      "Prediction:\n",
      " [0 0 0 ... 0 0 0]\n",
      "\n",
      "Classification Report:\n",
      "               precision    recall  f1-score   support\n",
      "\n",
      "           0       0.99      0.99      0.99      1211\n",
      "           1       0.96      0.93      0.94       182\n",
      "\n",
      "    accuracy                           0.99      1393\n",
      "   macro avg       0.97      0.96      0.97      1393\n",
      "weighted avg       0.99      0.99      0.99      1393\n",
      "\n",
      "Confusion Matrix :\n",
      " [[1203    8]\n",
      " [  12  170]]\n"
     ]
    }
   ],
   "source": [
    "from sklearn.naive_bayes import MultinomialNB\n",
    "from sklearn.feature_extraction.text import CountVectorizer\n",
    "datasets='https://raw.githubusercontent.com/justmarkham/pycon-2016-tutorial/master/data/sms.tsv'\n",
    "\n",
    "sms=pd.read_table(datasets,header=None,names=['Label','Message'])\n",
    "sms['Label_Number']=sms.Label.map({'ham':0,'spam':1})\n",
    "\n",
    "\n",
    "X=sms.Message\n",
    "y=sms.Label_Number\n",
    "\n",
    "X_train=X[0:4179]\n",
    "X_test=X[4179:]\n",
    "y_train=y[0:4179]\n",
    "y_test=y[4179:]\n",
    "\n",
    "\n",
    "vector = CountVectorizer()\n",
    "vector.fit(X_train)\n",
    "\n",
    "X_train_dtm = vector.transform(X_train)\n",
    "X_test_dtm = vector.transform(X_test)\n",
    "\n",
    "MNB=MultinomialNB()\n",
    "MNB.fit(X_train_dtm,y_train)\n",
    "\n",
    "y_pred=MNB.predict(X_test_dtm)\n",
    "\n",
    "print(\"Accuracy:\",metrics.accuracy_score(y_test,y_pred,normalize=True))\n",
    "\n",
    "print(\"\\nPrediction:\\n\",y_pred)\n",
    "\n",
    "print(\"\\nClassification Report:\\n\",metrics.classification_report(y_test,y_pred))\n",
    "print(\"Confusion Matrix :\\n\",metrics.confusion_matrix(y_test, y_pred))\n",
    "\n",
    "\n"
   ]
  },
  {
   "cell_type": "markdown",
   "metadata": {},
   "source": [
    "# KNN Using Sklearn"
   ]
  },
  {
   "cell_type": "code",
   "execution_count": 10,
   "metadata": {},
   "outputs": [
    {
     "name": "stdout",
     "output_type": "stream",
     "text": [
      "[0 0 0 0 0 0 0 0 0 0 0 0 0 0 0 0 0 0 0 0 0 0 0 0 0 1 1 1 1 1 1 2 1 1 1 1 1\n",
      " 1 1 1 1 2 1 1 1 1 1 1 1 1 2 2 2 2 2 2 2 2 2 1 2 2 2 2 2 2 2 2 2 2 2 2 2 2\n",
      " 2]\n",
      "Accuracy= 0.96\n",
      "Classification Report:\n",
      "               precision    recall  f1-score   support\n",
      "\n",
      "           0       1.00      1.00      1.00        25\n",
      "           1       0.96      0.92      0.94        25\n",
      "           2       0.92      0.96      0.94        25\n",
      "\n",
      "    accuracy                           0.96        75\n",
      "   macro avg       0.96      0.96      0.96        75\n",
      "weighted avg       0.96      0.96      0.96        75\n",
      "\n",
      "Confusion Matrix :\n",
      " [[25  0  0]\n",
      " [ 0 23  2]\n",
      " [ 0  1 24]]\n"
     ]
    }
   ],
   "source": [
    "from sklearn import neighbors,datasets\n",
    "\n",
    "X,y=datasets.load_iris(return_X_y=True)\n",
    "\n",
    "X_train=X[range(0,150,2),:]\n",
    "y_train=y[range(0,150,2)]\n",
    "\n",
    "X_test=X[range(1,150,2),:]\n",
    "y_test=y[range(1,150,2)]\n",
    "\n",
    "n_neighbors=3\n",
    "\n",
    "weights='distance'\n",
    "\n",
    "clf=neighbors.KNeighborsClassifier(n_neighbors)\n",
    "\n",
    "clf.fit(X_train,y_train)\n",
    "\n",
    "prediction=clf.predict(X_test)\n",
    "\n",
    "print(prediction)\n",
    "\n",
    "print(\"Accuracy=\",metrics.accuracy_score(y_test,prediction,normalize=True))\n",
    "\n",
    "print(\"Classification Report:\\n\",metrics.classification_report(y_test,prediction))\n",
    "\n",
    "print(\"Confusion Matrix :\\n\",metrics.confusion_matrix(y_test, prediction))"
   ]
  },
  {
   "cell_type": "code",
   "execution_count": null,
   "metadata": {},
   "outputs": [],
   "source": []
  }
 ],
 "metadata": {
  "kernelspec": {
   "display_name": "Python 3",
   "language": "python",
   "name": "python3"
  },
  "language_info": {
   "codemirror_mode": {
    "name": "ipython",
    "version": 3
   },
   "file_extension": ".py",
   "mimetype": "text/x-python",
   "name": "python",
   "nbconvert_exporter": "python",
   "pygments_lexer": "ipython3",
   "version": "3.8.8"
  }
 },
 "nbformat": 4,
 "nbformat_minor": 4
}
